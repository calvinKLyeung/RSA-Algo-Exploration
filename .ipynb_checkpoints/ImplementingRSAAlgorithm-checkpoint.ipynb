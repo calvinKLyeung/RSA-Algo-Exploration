{
 "cells": [
  {
   "cell_type": "markdown",
   "metadata": {},
   "source": [
    "## RSA - Design and Implementation"
   ]
  },
  {
   "cell_type": "markdown",
   "metadata": {},
   "source": [
    "<hr />\n",
    "\n",
    "# Table of Contents\n",
    "\n",
    "### 1. Introduction \n",
    "\n",
    "### 2. RSA Code Package   \n",
    "###### &nbsp;&nbsp;&nbsp;&nbsp;&nbsp;&nbsp; 2.1 Basic tool set\n",
    "###### &nbsp;&nbsp;&nbsp;&nbsp;&nbsp;&nbsp; 2.2 First tool set\n",
    "###### &nbsp;&nbsp;&nbsp;&nbsp;&nbsp;&nbsp; 2.3 Second tool set\n",
    "\n",
    "### 3. RSA More Code  \n",
    "\n",
    "###### &nbsp;&nbsp;&nbsp;&nbsp;&nbsp;&nbsp;  Encode\n",
    "###### &nbsp;&nbsp;&nbsp;&nbsp;&nbsp;&nbsp;  Decode\n",
    "\n",
    "### 4. Demo of encoding and decoding a message that highlights how the code works and the steps involved.   \n",
    "\n",
    "### 5. Results of exchanging codes with others. \n",
    "\n",
    "### 6. Narrative \n",
    "\n",
    "### 7. Why FME?  \n",
    "\n",
    "### 8. How to break codes \n",
    "\n",
    "### 9. Code breaking complete examples  \n",
    "\n",
    "### 10. Custom code feature / Advanced options \n"
   ]
  },
  {
   "cell_type": "markdown",
   "metadata": {},
   "source": [
    "\n",
    "\n",
    "\n",
    "\n",
    "\n"
   ]
  },
  {
   "cell_type": "markdown",
   "metadata": {},
   "source": [
    "\n",
    "\n",
    "\n",
    "\n",
    "\n",
    "\n",
    "### 1. Introduction to RSA Package and Project. An overview of the project and what we have done (and messed up). "
   ]
  },
  {
   "cell_type": "markdown",
   "metadata": {},
   "source": [
    "**Introduction** <br/>\n",
    "This project is about implementing the RSA algorithm and its related functions. RSA algorithm is the cornerstone of modern communication and transaction. From browser to banking and online communication, our modern way of living has been depending on RSA, since the day Ron Rivest, Adi Shamir, and Leonard Adleman made RSA algorithm public to the world. \n",
    "\n",
    "The following is a series of Python functions that implements the core RSA mechanism. **Section 2** are the tool sets of RSA including text and Unicode conversion, fast modular exponentiation, Euclidean algorithm (with extended one), prime checkers, primes p and q generator, and functions to generate public key e and calculate key d. **Section 3** are the main Encode and Decode function to encryption and decryption respectively. **Section 4** shows a demo about the functions from Section 2 and 3. **Section 5** is the demo of code Encryption and Decryption with text. **Section 6** is my journey and experience of implementing RSA. **Section 7** explains why I decided to use a particular way to implement the fast modular exponentiation algorithm. **Section 8** indicates the flaw of our RSA implementation and how to break this insufficient RSA implementation. **Section 9** is a series of examples about breaking RSA encoded ciphertext. **Section 10** demonstrates 6 RSA related features.\n",
    "\n",
    "\n",
    "Through this project I learned math is about relations. How seemingly discrete concepts can be wisely put together to form magnificent tools and algorithms to solve real world problem. I learned how Euclidean Algorithm works, how to implement fast modular exponentiation, how prime, relatively prime, modular inverse are related, and how Extended Euclidean Algorithm  retrieves Bezout's coefficients and calculate private key d.\n"
   ]
  },
  {
   "cell_type": "markdown",
   "metadata": {
    "tags": []
   },
   "source": [
    "### 2.1\n",
    "#### Basic tool set\n",
    "\n",
    "These are functions that we'll need to pre-process the messages before the messages are encoded and decoded by the RSA algorithm. That is the reason we will be defining them first.\n",
    "\n"
   ]
  },
  {
   "cell_type": "code",
   "execution_count": 7,
   "metadata": {},
   "outputs": [],
   "source": [
    "def Convert_Text(_string:str) -> list[int]: # _string = input str message\n",
    "    \"\"\"\n",
    "    takes in a simple \n",
    "    string such as \"hello\" and outputs the corresponding\n",
    "    standard list of integers (ascii) for each letter in the word hello.\n",
    "    For example:\n",
    "    _string = hello\n",
    "    integer_list = [104, 101, 108, 108, 111]\n",
    "    \n",
    "    \"ord()\" turn Glyph into unicode/ascii\n",
    "    \"\"\"\n",
    "    integer_list = list()\n",
    "    for char in _string:\n",
    "        integer_list.append(ord(char)) # ord() turn Glyph into unicode/ascii\n",
    "    return integer_list "
   ]
  },
  {
   "cell_type": "code",
   "execution_count": 8,
   "metadata": {},
   "outputs": [
    {
     "data": {
      "text/plain": [
       "[104, 101, 108, 108, 111]"
      ]
     },
     "execution_count": 8,
     "metadata": {},
     "output_type": "execute_result"
    }
   ],
   "source": [
    "Convert_Text('hello')"
   ]
  },
  {
   "cell_type": "code",
   "execution_count": 9,
   "metadata": {},
   "outputs": [],
   "source": [
    "def Convert_Num(_list:list) -> str: # _list = input list of int\n",
    "    \"\"\"\n",
    "    opposite of Convert_Text\n",
    "    function defined above.\n",
    "    \n",
    "    takes in a list of integers\n",
    "    and outputs the corresponding string (ascii).\n",
    "    \n",
    "    For example:\n",
    "    _list = [104, 101, 108, 108, 111]\n",
    "    _string = hello\n",
    "    \"\"\"\n",
    "    _string = '' \n",
    "    for i in _list: \n",
    "        _string += chr(i) # str concatenation, chr() turn unicode to str \n",
    "    return _string "
   ]
  },
  {
   "cell_type": "code",
   "execution_count": 10,
   "metadata": {},
   "outputs": [
    {
     "data": {
      "text/plain": [
       "'hello'"
      ]
     },
     "execution_count": 10,
     "metadata": {},
     "output_type": "execute_result"
    }
   ],
   "source": [
    "Convert_Num([104, 101, 108, 108, 111])"
   ]
  },
  {
   "cell_type": "code",
   "execution_count": 11,
   "metadata": {},
   "outputs": [],
   "source": [
    "def Convert_Binary_String(_int:int) -> str: # _int = input unicode/ascii of char\n",
    "    \"\"\"\n",
    "    converts an integer to\n",
    "    a string of its binary expansion.\n",
    "    \n",
    "    For example:\n",
    "    _int = 345\n",
    "    bits = 101011001\n",
    "    \"\"\"\n",
    "    bits = str() \n",
    "    while (_int > 0): # iterate until _int == 0\n",
    "        r = _int % 2 # get binary digit\n",
    "        bits = str(r) + bits # turn binary digit into str and insert in the front\n",
    "        _int = _int // 2 # update _int with integer division\n",
    "    return bits "
   ]
  },
  {
   "cell_type": "code",
   "execution_count": 12,
   "metadata": {},
   "outputs": [
    {
     "data": {
      "text/plain": [
       "'101011001'"
      ]
     },
     "execution_count": 12,
     "metadata": {},
     "output_type": "execute_result"
    }
   ],
   "source": [
    "Convert_Binary_String(345)"
   ]
  },
  {
   "cell_type": "markdown",
   "metadata": {},
   "source": [
    "The Following is the tool set which is actually involved in the RSA system."
   ]
  },
  {
   "cell_type": "markdown",
   "metadata": {},
   "source": [
    "### 2.2 \n",
    "#### First tool set.\n",
    "\n"
   ]
  },
  {
   "cell_type": "code",
   "execution_count": 15,
   "metadata": {},
   "outputs": [],
   "source": [
    "def sriram_FME(b:int, n:str, m:int) -> int: #expect inputs b = base, n = exponent, m = mod divisor\n",
    "    \"\"\"\n",
    "    FME following Sriram’s advice. \n",
    "    while loop iteration to extract binary digit with % 2 and update n value with // 2\n",
    "    Run FME on the go with cumulative variables \n",
    "    \"\"\"\n",
    "    result = 1 \n",
    "    base_to_square = b # add % m here? or not necessary?\n",
    "    while (n > 0): # keep running until quotient == 0 from integer division by 2\n",
    "        r = n % 2  # get remainder from n mod 2\n",
    "        n = n // 2 # update n with integer division \n",
    "        if r == 1: # if binary digit == 1, means it is time to multiply the result with current square and mod value\n",
    "            result = (result * base_to_square) % m # result * current square and mod value, follow by mod\n",
    "        base_to_square = (base_to_square * base_to_square) % m # update the square and mod value during each iteration\n",
    "    return result "
   ]
  },
  {
   "cell_type": "code",
   "execution_count": 16,
   "metadata": {},
   "outputs": [
    {
     "name": "stdout",
     "output_type": "stream",
     "text": [
      "CPU times: user 6 μs, sys: 1 μs, total: 7 μs\n",
      "Wall time: 7.87 μs\n"
     ]
    },
    {
     "data": {
      "text/plain": [
       "15"
      ]
     },
     "execution_count": 16,
     "metadata": {},
     "output_type": "execute_result"
    }
   ],
   "source": [
    "%%time\n",
    "sriram_FME(3245423, 7257527, 19)"
   ]
  },
  {
   "cell_type": "code",
   "execution_count": 17,
   "metadata": {},
   "outputs": [],
   "source": [
    "def epp_FME(b:int, n:int, m:int) -> int: #expect inputs b = base, n = exponent in binary sequence, m = mod divisor\n",
    "    \"\"\"\n",
    "    FME following Epp’s demo. \n",
    "    for loop iteration to iterate through the binary digits in binary sequence \n",
    "    Require extra function Convert_Binary_String(n) to turn decimal to binary str sequence \n",
    "    \"\"\"\n",
    "    x = 1 \n",
    "    power = b % m \n",
    "    binary_n = Convert_Binary_String(n) \n",
    "    reversed_n = binary_n[::-1] # reverse the binary sequence to fit the order\n",
    "    for i in range(len(reversed_n)): # i is the index of each binary digits, for loop to iterate through the reversed binary sequence \n",
    "        if (int(reversed_n[i]) == 1): # if binary digit == 1, means it is time to multiply the result x with current power and mod value\n",
    "            x = (x * power) % m # x * current power and mod value, follow by mod\n",
    "        power = (power * power) % m # update the power and mod value during each iteration\n",
    "    return x "
   ]
  },
  {
   "cell_type": "code",
   "execution_count": 18,
   "metadata": {},
   "outputs": [
    {
     "name": "stdout",
     "output_type": "stream",
     "text": [
      "CPU times: user 13 μs, sys: 1 μs, total: 14 μs\n",
      "Wall time: 13.8 μs\n"
     ]
    },
    {
     "data": {
      "text/plain": [
       "15"
      ]
     },
     "execution_count": 18,
     "metadata": {},
     "output_type": "execute_result"
    }
   ],
   "source": [
    "%%time\n",
    "epp_FME(3245423, 7257527, 19)"
   ]
  },
  {
   "cell_type": "code",
   "execution_count": 19,
   "metadata": {},
   "outputs": [],
   "source": [
    "# FME to be used \n",
    "def FME(b:int, n:int, m:int) -> int:\n",
    "    \"\"\"\n",
    "    FME following Sriram’s advice. \n",
    "    while loop iteration to extract binary digit with % 2 and update n value with // 2\n",
    "    Run FME on the go with cumulative variables \n",
    "    \"\"\"\n",
    "    # result = 1 \n",
    "    # base_to_square = b # add % m here? or not necessary?\n",
    "    # while (n > 0): # keep running until quotient == 0 from integer division by 2\n",
    "    #     r = n % 2  # get remainder from n mod 2\n",
    "    #     n = n // 2 # update n with integer division \n",
    "    #     if r == 1: # if binary digit == 1, means it is time to multiply the result with current square and mod value\n",
    "    #         result = (result * base_to_square) % m # result * current square and mod value, follow by mod\n",
    "    #     base_to_square = (base_to_square * base_to_square) % m # update the square and mod value during each iteration\n",
    "    # return result \n",
    "    return sriram_FME(b, n, m)\n",
    "    "
   ]
  },
  {
   "cell_type": "code",
   "execution_count": 20,
   "metadata": {},
   "outputs": [],
   "source": [
    "def my_square_and_mod(b:int, n:int, m:int) -> int:\n",
    "\n",
    "    \"\"\"\n",
    "    my square and mod algorithm\n",
    "    2 parts\n",
    "    1) prepare look up chart for square and mod \n",
    "    2) calculate the result with the look up values \n",
    "    with n = 644, square and moded dict is {1: 3, 2: 9, 4: 81, 8: 111, 16: 66, 32: 486, 64: 126, 128: 396, 256: 81, 512: 111}\n",
    "    with n = 644, reversed_keys is [512, 256, 128, 64, 32, 16, 8, 4, 2, 1]\n",
    "    \"\"\"\n",
    "    \n",
    "    output = 1\n",
    "    \n",
    "    # prepare look up chart \n",
    "    squared_and_moded_dict = dict() # look up chart in dict, key == exponent, value == b**square and then mod m\n",
    "    squared_and_moded_dict[1] = (b**1) % m # prepare exponent 1 value\n",
    "    squaring_exponent = 2 # variable to keep track of currently squared value of exponent\n",
    "    while (squaring_exponent < n): \n",
    "        squared_and_moded_remainder = (b**squaring_exponent) % m # get the remainder from square and mod \n",
    "        squared_and_moded_dict[squaring_exponent] = squared_and_moded_remainder # store the key = squared exponent, value = square and mod remainder pair into dict\n",
    "        squaring_exponent = squaring_exponent * 2 # times 2 to the get the value of next digit in binary expansions\n",
    "\n",
    "        \n",
    "    # calculate the result, basically the same greedy algorithm for coins\n",
    "    reversed_keys = list(reversed(squared_and_moded_dict.keys())) # resersed keys retrieved from dict, use in for loop iteration to access the dict\n",
    "    for key in reversed_keys: # iterate each exponent from the largest \n",
    "        while((n // key) > 0): # integer divide by the key until result quotient == 0\n",
    "            output = output * squared_and_moded_dict[key] % m # output times the record from look up chart \n",
    "            n = n % key \n",
    "\n",
    "    return output "
   ]
  },
  {
   "cell_type": "code",
   "execution_count": 21,
   "metadata": {},
   "outputs": [
    {
     "name": "stdout",
     "output_type": "stream",
     "text": [
      "CPU times: user 1min 14s, sys: 350 ms, total: 1min 14s\n",
      "Wall time: 1min 14s\n"
     ]
    },
    {
     "data": {
      "text/plain": [
       "15"
      ]
     },
     "execution_count": 21,
     "metadata": {},
     "output_type": "execute_result"
    }
   ],
   "source": [
    "%%time\n",
    "my_square_and_mod(3245423, 7257527, 19)"
   ]
  },
  {
   "cell_type": "code",
   "execution_count": 22,
   "metadata": {},
   "outputs": [],
   "source": [
    "def Euclidean_Alg(a:int, b:int) -> int: # Find GCD with Euclidean algorithm \n",
    "    \"\"\"\n",
    "    \n",
    "    Calculate the Greatest Common Divisor of a and b.\n",
    "    \n",
    "    which should have only postive inputs and outputs.\n",
    "    \n",
    "    return a singles integer ('x') which is\n",
    "    the gcd of a and b.\n",
    "    \n",
    "    \n",
    "    \"\"\"\n",
    "    assert a >= b >= 0 \n",
    "    while (b > 0): # hit 0 and return gcd on the left\n",
    "        r = a % b  # gcd(a, b) == gcd(a mod b , b)\n",
    "        a = b      # move current largest to left\n",
    "        b = r      # move current smallest to left\n",
    "    return a       # return a when b == 0"
   ]
  },
  {
   "cell_type": "code",
   "execution_count": 23,
   "metadata": {},
   "outputs": [
    {
     "data": {
      "text/plain": [
       "18"
      ]
     },
     "execution_count": 23,
     "metadata": {},
     "output_type": "execute_result"
    }
   ],
   "source": [
    "Euclidean_Alg(252, 198)"
   ]
  },
  {
   "cell_type": "code",
   "execution_count": 24,
   "metadata": {},
   "outputs": [
    {
     "data": {
      "text/plain": [
       "1"
      ]
     },
     "execution_count": 24,
     "metadata": {},
     "output_type": "execute_result"
    }
   ],
   "source": [
    "Euclidean_Alg(12, 5)"
   ]
  },
  {
   "cell_type": "code",
   "execution_count": 25,
   "metadata": {},
   "outputs": [],
   "source": [
    "def Extended_Euclidean_Alg(a:int, b:int) -> tuple[int, int, int]: # check Both GCD and Bezout Coefficients\n",
    "    \"\"\"\n",
    "    Extended the above function Euclidean Alg which now takes the same input but return \n",
    "    a tuple containing (gcd(a,b), Bezout coeff s, Bezout coeff t)\n",
    "    While loop condition does 2 things (1) check if b == 0 already, (2) check if each iteration satisfy loop invariant that \n",
    "    current a is equal to s1*a_o + t1*b_o and current b is equal s2*a_o + t2*b_o\n",
    "    \"\"\"\n",
    "    assert a >= b >= 0 \n",
    "    a_o, b_o = a, b # store a original value, b original value as reference\n",
    "    s1, t1 = 1, 0 # initial a*s1 + b*t1 == a\n",
    "    s2, t2 = 0, 1 # initial a*s2 + b*t2 == b\n",
    "    while (b > 0 and (a == s1*a_o + t1*b_o) and (b == s2*a_o + t2*b_o)): # Stop when b == 0, and check current value of a,b satisfy the loop invariant \n",
    "        r = a % b \n",
    "        q = a // b \n",
    "    \n",
    "        a = b # reassign a to previous b\n",
    "        b = r # reassign b to retrieved remainder r \n",
    "        \n",
    "        s1_hat, t1_hat = s2, t2 # store temp copy of s2, t2\n",
    "        s2_hat, t2_hat = (s1-q*s2, t1-q*t2) # !!!important!!! algebra result that represent the calculated coefficients s2, t2 during each iteration\n",
    "        s1, t1 = s1_hat, t1_hat # update s1, t1\n",
    "        s2, t2 = s2_hat, t2_hat # update s2, t2\n",
    "        \n",
    "    return (a, s1, t1) # return tuple with 3 elements, remainder, Bezout coeff s1, Bezout coeff t1"
   ]
  },
  {
   "cell_type": "code",
   "execution_count": 26,
   "metadata": {},
   "outputs": [
    {
     "data": {
      "text/plain": [
       "(18, 4, -5)"
      ]
     },
     "execution_count": 26,
     "metadata": {},
     "output_type": "execute_result"
    }
   ],
   "source": [
    "Extended_Euclidean_Alg(252, 198)"
   ]
  },
  {
   "cell_type": "code",
   "execution_count": 27,
   "metadata": {},
   "outputs": [
    {
     "data": {
      "text/plain": [
       "(1, -2, 5)"
      ]
     },
     "execution_count": 27,
     "metadata": {},
     "output_type": "execute_result"
    }
   ],
   "source": [
    "Extended_Euclidean_Alg(12, 5)"
   ]
  },
  {
   "cell_type": "markdown",
   "metadata": {
    "tags": []
   },
   "source": [
    "##### EEA testing"
   ]
  },
  {
   "cell_type": "code",
   "execution_count": 29,
   "metadata": {},
   "outputs": [
    {
     "name": "stdout",
     "output_type": "stream",
     "text": [
      "r: 13 s: 1 t: -3\n",
      "13 = (1)(91) + (-3)(26)\n"
     ]
    }
   ],
   "source": [
    "a, b = 91, 26\n",
    "r, s, t = Extended_Euclidean_Alg(a, b)\n",
    "print(\"r:\", r, \"s:\", s, \"t:\", t)\n",
    "ans = f\"{r} = ({s})({a}) + ({t})({b})\"\n",
    "print(ans)"
   ]
  },
  {
   "cell_type": "markdown",
   "metadata": {},
   "source": [
    "### 2.3\n",
    "#### Second tool set\n",
    "\n",
    "Here we will implement the core of the RSA cryptosystem. The functions below will generate the public and private key pairs which will then be used to create a ciphertext using the public key and then decode the same using the pirvate key.\n",
    "\n"
   ]
  },
  {
   "cell_type": "code",
   "execution_count": 31,
   "metadata": {},
   "outputs": [],
   "source": [
    "from math import sqrt \n",
    "def is_prime_linear(p:int) -> bool: # p = int number\n",
    "    \"\"\"\n",
    "    Check if given p is prime by linear search iteration\n",
    "    \"\"\"\n",
    "    assert 2 <= p # exclude numbers <= 1\n",
    "    for i in range(2, int(sqrt(p)) + 1): # If n is a composite integer, then n has a prime divisor less than or equal to √n.\n",
    "        if p % i == 0:\n",
    "            return False\n",
    "    return True\n",
    "        "
   ]
  },
  {
   "cell_type": "code",
   "execution_count": 32,
   "metadata": {},
   "outputs": [
    {
     "data": {
      "text/plain": [
       "False"
      ]
     },
     "execution_count": 32,
     "metadata": {},
     "output_type": "execute_result"
    }
   ],
   "source": [
    "is_prime_linear(100)"
   ]
  },
  {
   "cell_type": "code",
   "execution_count": 33,
   "metadata": {},
   "outputs": [
    {
     "data": {
      "text/plain": [
       "True"
      ]
     },
     "execution_count": 33,
     "metadata": {},
     "output_type": "execute_result"
    }
   ],
   "source": [
    "is_prime_linear(109)"
   ]
  },
  {
   "cell_type": "code",
   "execution_count": 34,
   "metadata": {},
   "outputs": [],
   "source": [
    "import secrets\n",
    "def is_prime_fermat_little_theorem(p:int) -> bool: # p = int number\n",
    "    \"\"\"\n",
    "    Check if given p is prime by Fermat's Little Theorem\n",
    "    \"\"\"\n",
    "    assert 2 <= p # exclude numbers <= 1\n",
    "    base = secrets.choice(range(1, p)) # only works 1 <= a <= p-1, randomly pick a base within range to test if p is prime \n",
    "    exponent = p - 1\n",
    "    mod_divisor = p\n",
    "    return True if sriram_FME(b=base, n=exponent, m=mod_divisor) == 1 else False # return True if remainder congruence 1 mod p, which infers prime"
   ]
  },
  {
   "cell_type": "code",
   "execution_count": 35,
   "metadata": {},
   "outputs": [
    {
     "data": {
      "text/plain": [
       "False"
      ]
     },
     "execution_count": 35,
     "metadata": {},
     "output_type": "execute_result"
    }
   ],
   "source": [
    "is_prime_fermat_little_theorem(100)"
   ]
  },
  {
   "cell_type": "code",
   "execution_count": 36,
   "metadata": {},
   "outputs": [
    {
     "data": {
      "text/plain": [
       "True"
      ]
     },
     "execution_count": 36,
     "metadata": {},
     "output_type": "execute_result"
    }
   ],
   "source": [
    "is_prime_fermat_little_theorem(109)"
   ]
  },
  {
   "cell_type": "code",
   "execution_count": 37,
   "metadata": {},
   "outputs": [],
   "source": [
    "def is_prime_double_checker(p:int) -> bool:  # p = int number\n",
    "    \"\"\"\n",
    "    Combine both linear check and Fermat's Little Theorem check for prime\n",
    "    \"\"\"\n",
    "    return True if is_prime_linear(p) and is_prime_fermat_little_theorem(p) else False # if both functions return True, then True"
   ]
  },
  {
   "cell_type": "code",
   "execution_count": 38,
   "metadata": {},
   "outputs": [
    {
     "data": {
      "text/plain": [
       "False"
      ]
     },
     "execution_count": 38,
     "metadata": {},
     "output_type": "execute_result"
    }
   ],
   "source": [
    "is_prime_double_checker(100)"
   ]
  },
  {
   "cell_type": "code",
   "execution_count": 39,
   "metadata": {},
   "outputs": [
    {
     "data": {
      "text/plain": [
       "True"
      ]
     },
     "execution_count": 39,
     "metadata": {},
     "output_type": "execute_result"
    }
   ],
   "source": [
    "is_prime_double_checker(109)"
   ]
  },
  {
   "cell_type": "code",
   "execution_count": 40,
   "metadata": {},
   "outputs": [],
   "source": [
    "import secrets\n",
    "def random_prime_pair_generator(start: int, stop: int) -> tuple[int ,int]: \n",
    "    \"\"\"\n",
    "    generat prime p, q with randomly selected int within given range start (included) and stop (excluded)\n",
    "    keep generating random p, q until both p and q are prime and p != q\n",
    "    \"\"\"\n",
    "    p = secrets.choice(range(start, stop)) # limited to start <= p <= stop\n",
    "    q = secrets.choice(range(start, stop)) # limited to start <= q <= stop\n",
    "    while (not is_prime_double_checker(p) or not is_prime_double_checker(q) or p == q): # if p or q is not prime, or p == q, run again\n",
    "        p = secrets.choice(range(start, stop)) \n",
    "        q = secrets.choice(range(start, stop)) \n",
    "    return p, q # tuple of p, q\n",
    "    "
   ]
  },
  {
   "cell_type": "code",
   "execution_count": 41,
   "metadata": {},
   "outputs": [
    {
     "name": "stdout",
     "output_type": "stream",
     "text": [
      "43 59\n"
     ]
    }
   ],
   "source": [
    "p, q = random_prime_pair_generator(20, 100) # selected range to prevent p*q < 150\n",
    "print(p, q)"
   ]
  },
  {
   "cell_type": "code",
   "execution_count": 42,
   "metadata": {},
   "outputs": [],
   "source": [
    "import secrets\n",
    "def Find_Public_Key_e(p: int, q: int) -> tuple[int, int]: # p = prime int, q = prime int\n",
    "    \"\"\"\n",
    "    Implement this function such that\n",
    "    it takes 2 primes p and q.\n",
    "    \n",
    "    The function should return 2 elements as follows:\n",
    "    public key: n\n",
    "    public key: e\n",
    "    \n",
    "    function will run a loop to find e such \n",
    "    that e is relatively prime to (p - 1) (q - 1) \n",
    "    and not equal to p or q.\n",
    "    \n",
    "    \"\"\"\n",
    "    n = p * q \n",
    "    \n",
    "    euler_phi_n = (p - 1) * (q - 1) # euler_phi(n) represent the total number of coprime with n\n",
    "    \n",
    "    e = secrets.choice(range(2, 100)) # genrate public key e, with limited size of e for Demo\n",
    "    while (Euclidean_Alg(euler_phi_n, e) != 1 or e == p or e == q): #if euler_phi_n and e are not relatively prime, or e equal to p or q, run again\n",
    "        e = secrets.choice(range(2, 100)) \n",
    "    return n, e # tuple n, e"
   ]
  },
  {
   "cell_type": "code",
   "execution_count": 43,
   "metadata": {},
   "outputs": [
    {
     "name": "stdout",
     "output_type": "stream",
     "text": [
      "2537 73\n"
     ]
    }
   ],
   "source": [
    "n, e = Find_Public_Key_e(p, q)\n",
    "print(n ,e)"
   ]
  },
  {
   "cell_type": "code",
   "execution_count": 44,
   "metadata": {},
   "outputs": [],
   "source": [
    "def ensure_positive_d(d:int, m:int) -> int:\n",
    "    \"\"\"\n",
    "    check if private key d is negative\n",
    "    if yes, mod m to turn d into positive and unique modular inverse withint the range 1 <= d <= m\n",
    "    \"\"\"\n",
    "    while(d < 0): # same as if(d < 0)\n",
    "        d = d % m # negative d mod m return the unique modular inverse d where 1 <= d <= m\n",
    "    return d"
   ]
  },
  {
   "cell_type": "code",
   "execution_count": 45,
   "metadata": {},
   "outputs": [
    {
     "data": {
      "text/plain": [
       "3"
      ]
     },
     "execution_count": 45,
     "metadata": {},
     "output_type": "execute_result"
    }
   ],
   "source": [
    "ensure_positive_d(-32, 35)"
   ]
  },
  {
   "cell_type": "code",
   "execution_count": 46,
   "metadata": {},
   "outputs": [],
   "source": [
    "def Find_Private_Key_d(e:int, p:int, q:int) -> int:\n",
    "    \"\"\"\n",
    "    function find the decryption exponent d, \n",
    "    such that d is the modular inverse of e. \n",
    "    \n",
    "    This uses the Extended Euclidean Algorithm\n",
    "    \n",
    "    function return the following:\n",
    "    d: the decryption component.\n",
    "\n",
    "    \"\"\"\n",
    "    euler_phi_n = (p - 1) * (q - 1) # euler_phi(n) represent the total number of coprime with n\n",
    "    remainder, coeff_s, coeff_t = Extended_Euclidean_Alg(a=euler_phi_n, b=e) # Use Extended_Euclidean_Alg to find Bezout coeff of e (inverse modular of e) as d\n",
    "    d = ensure_positive_d(d=coeff_t, m=euler_phi_n) # d=coeff_t because we set b=e when we call EEA, hence, Bezout coeff_t of e represent the modular inverse d\n",
    "    return d"
   ]
  },
  {
   "cell_type": "code",
   "execution_count": 47,
   "metadata": {},
   "outputs": [
    {
     "name": "stdout",
     "output_type": "stream",
     "text": [
      "901\n"
     ]
    }
   ],
   "source": [
    "d = Find_Private_Key_d(e, p, q)\n",
    "print(d)"
   ]
  },
  {
   "cell_type": "markdown",
   "metadata": {},
   "source": [
    "### 3.\n",
    "#### Putting things all together.\n",
    "\n",
    "1. We define two functions `Encode` and `Decode` which will use the public and private keys that are calculated using the above 2 functions in the second toolset.\n",
    "2. Using the public key, the `Encode` function will encode a message and generate the corresponding cipher_text.\n",
    "3. Using the private key, the `Decode` function will decode a ciper_text and recover the original message.\n",
    "\n"
   ]
  },
  {
   "cell_type": "code",
   "execution_count": 49,
   "metadata": {},
   "outputs": [],
   "source": [
    "def Encode(n:int, e:int, message:str) -> list[int]: # n = p * q, e = generated public key, message = str message \n",
    "    \"\"\"\n",
    "    Here, the message will be a string of characters.\n",
    "    Use the function Convert_Text from \n",
    "    the basic tool set and get a list of numbers.\n",
    "    \n",
    "    The function Encode each of these numbers using n and e and\n",
    "    return the encoded cipher_text.\n",
    "    \"\"\"\n",
    "    char_list = Convert_Text(message) # turn str message into list int of unicode/ascii value\n",
    "    assert max(char_list) < n  # make sure numberical value of each char in message M is less than n\n",
    "    \n",
    "    cipher_text = []\n",
    "    for char in char_list: # iterate through each unicode/ascii of char in char_list\n",
    "        cipher_char = sriram_FME(char, e, n) # encrypt by char ** e mod n\n",
    "        cipher_text.append(cipher_char) \n",
    "    return cipher_text "
   ]
  },
  {
   "cell_type": "code",
   "execution_count": 50,
   "metadata": {},
   "outputs": [
    {
     "data": {
      "text/plain": [
       "[2081]"
      ]
     },
     "execution_count": 50,
     "metadata": {},
     "output_type": "execute_result"
    }
   ],
   "source": [
    "Encode(2537, 13, 'ܛ')"
   ]
  },
  {
   "cell_type": "code",
   "execution_count": 51,
   "metadata": {},
   "outputs": [],
   "source": [
    "def Decode(n:int, d:int, cipher_text:list[int]) -> str: # n = p * q, d = calculated private key, cipher_text = encrypted list of int\n",
    "    \"\"\"\n",
    "    Here, the cipher_text will be a list of integers.\n",
    "    First, the function decrypts each of those integers using \n",
    "    n and d.\n",
    "    \n",
    "    Then, uses the function Convert_Num from the \n",
    "    basic toolset to recover the original message as a string. \n",
    "    \n",
    "    \"\"\"\n",
    "    message = '' \n",
    "    char_ascii_list = list()\n",
    "    for cipher_char in cipher_text: #iterate each ciphter_char in the list of chpher_text \n",
    "        char = sriram_FME(cipher_char, d, n) # decrypt by cipher_char ** d mod n\n",
    "        char_ascii_list.append(char)\n",
    "    message = Convert_Num(char_ascii_list) # turn decrypted unicode/ascii message back to str\n",
    "    return message "
   ]
  },
  {
   "cell_type": "code",
   "execution_count": 52,
   "metadata": {},
   "outputs": [
    {
     "data": {
      "text/plain": [
       "'ܛ'"
      ]
     },
     "execution_count": 52,
     "metadata": {},
     "output_type": "execute_result"
    }
   ],
   "source": [
    "Decode(2537, 937, [2081])"
   ]
  },
  {
   "cell_type": "markdown",
   "metadata": {
    "tags": []
   },
   "source": [
    "##### Conversation to demo RSA encryption and decryption"
   ]
  },
  {
   "cell_type": "code",
   "execution_count": 54,
   "metadata": {},
   "outputs": [],
   "source": [
    "p = 73    # prime p \n",
    "q = 61    # prime q\n",
    "n = 4453  # mod n \n",
    "e = 59    # pair of public, private keys e and d\n",
    "d = 659"
   ]
  },
  {
   "cell_type": "code",
   "execution_count": 55,
   "metadata": {},
   "outputs": [
    {
     "name": "stdout",
     "output_type": "stream",
     "text": [
      "[1518, 3582, 2479, 3487, 3559, 4435, 2039, 3559, 853, 2390, 3184, 1624, 3559, 1624, 761, 3835, 761, 4031, 3487, 3559, 247, 2479, 991, 2390, 3184, 1624, 4435, 3487, 761, 3559, 4316, 2209, 826, 3184, 2393, 3559, 2390, 1624, 3559, 635, 2390, 4031, 382, 1190, 3044, 3214, 853, 3559, 1624, 761, 3835, 761, 4031, 3487, 3559, 247, 2479, 991, 2390, 3184, 1624, 4435, 3487, 761, 3559, 4316, 2209, 826, 3184, 2393, 20, 3559, 1825, 646, 2209, 2209, 3559, 826, 853, 3559, 3582, 2479, 1624, 3184, 2566, 2479, 3559, 4031, 2479, 2566, 2479, 2393, 3184, 1624, 2479, 3559, 3582, 3487, 3487, 2690, 2039, 20, 3246, 3246, 2390, 2690, 761, 4031, 3969, 2039, 2690, 2390, 3487, 4435, 247, 853, 3969, 3835, 2390, 2393, 3246, 2479, 2209, 826, 3184, 2393, 3246, 3726, 3696, 2152, 382, 827, 2607, 3808, 3332, 2039, 635, 1494, 3214, 4031, 3835, 1518, 759, 1023, 2452, 827, 4316, 279, 2390, 1190, 2039, 4435, 4209, 1961, 418, 1023, 4031, 3184, 3835, 3184, 3835, 635, 826, 2393, 1023, 2452, 1961, 2157, 991, 4316, 3204, 4232, 2390, 1967, 382, 3044, 3214, 853, 3559, 1624, 761, 3835, 761, 4031, 3487, 3559, 247, 2479, 991, 2390, 3184, 1624, 4435, 3487, 761, 3559, 2039, 2390, 4031, 382, 20, 3559, 635, 2479, 3696, 3559, 2607, 1624, 761, 2393, 2390, 4031, 4435, 3487, 4435, 2390, 4031, 3559, 3246, 3559, 1582, 4435, 2209, 4435, 3184, 2393, 3559, 826, 853, 3559, 3582, 2479, 1624, 3184, 2566, 2479, 3559, 4031, 2479, 2566, 2479, 2393, 3184, 1624, 2479, 3559, 3582, 3487, 3487, 2690, 2039, 20, 3246, 3246, 2582, 2582, 2582, 3969, 853, 2390, 3184, 3487, 3184, 826, 761, 3969, 3835, 2390, 2393, 3246, 2582, 2479, 3487, 3835, 3582, 1190, 991, 4209, 4031, 2039, 1518, 1613, 991, 2254, 1961, 2641, 3098, 1825, 3383]\n"
     ]
    }
   ],
   "source": [
    "message = \"\"\"What is your recent favourite Album or Song?\n",
    "My recent favourite Album: I'll by haruka nakamura https://open.spotify.com/album/1dOgFP65sSxMncWqJ8FADo?si=_XJnucucSbmJ8_VvAREo9g\n",
    "My recent favourite song: Sad Premonition / Lilium by haruka nakamura https://www.youtube.com/watch?v=nsW4vQ_NKIU\"\"\"\n",
    "ciphertext = Encode(n, e, message=message)\n",
    "print(ciphertext)"
   ]
  },
  {
   "cell_type": "code",
   "execution_count": 56,
   "metadata": {},
   "outputs": [
    {
     "name": "stdout",
     "output_type": "stream",
     "text": [
      "What is your recent favourite Album or Song?\n",
      "My recent favourite Album: I'll by haruka nakamura https://open.spotify.com/album/1dOgFP65sSxMncWqJ8FADo?si=_XJnucucSbmJ8_VvAREo9g\n",
      "My recent favourite song: Sad Premonition / Lilium by haruka nakamura https://www.youtube.com/watch?v=nsW4vQ_NKIU\n"
     ]
    }
   ],
   "source": [
    "message = Decode(n, d, ciphertext)\n",
    "print(message)"
   ]
  },
  {
   "cell_type": "markdown",
   "metadata": {
    "tags": []
   },
   "source": [
    "### 4.  Demo\n",
    "A **step-by-step** guide to use the above code with a specific example that we can walk through using the functions above in a mix of code and text blocks. \n",
    "\n",
    "**This is essentially a test that demonstates the above code works and how it works. Just basic function calls.**\n",
    "\n",
    "The 3 main steps are:\n",
    "\n",
    "* Generate keys. \n",
    "\n",
    "* Encode a message.\n",
    "\n",
    "* Decode the same message. \n"
   ]
  },
  {
   "cell_type": "markdown",
   "metadata": {
    "tags": []
   },
   "source": [
    "##### **i) Generate Keys**\n",
    "\n",
    "First, the following will show how to generate the pair of public and private keys for RSA algorithm"
   ]
  },
  {
   "cell_type": "markdown",
   "metadata": {},
   "source": [
    "**Step 1:** We need 2 distinct prime number p and q<br />\n",
    "Function random_prime_pair_generator(start, stop) uses inputs start and stop to set the range for randomly generated the distinct primes **p** and **q**. <br />\n",
    "Start is set to 20 to ensure the product of prime p and q is at least 20*20=400 somewhere greater than the unicode of commonly used Latin Alphabet. <br/>\n",
    "Stop is set to 100 to limit the size of keys for demo purpose. "
   ]
  },
  {
   "cell_type": "code",
   "execution_count": 60,
   "metadata": {},
   "outputs": [
    {
     "name": "stdout",
     "output_type": "stream",
     "text": [
      "79 29\n"
     ]
    }
   ],
   "source": [
    "p, q = random_prime_pair_generator(start=20, stop=100)  # start and stop to set the range for prime number, for demo purpose, start is set to 20 \n",
    "print(p, q)"
   ]
  },
  {
   "cell_type": "markdown",
   "metadata": {},
   "source": [
    "**Step 2:** We use the prime number p and q to calculate the product n and generate public key e <br/>\n",
    "Function Find_Public_Key_e(p, q) takes the previously generated dictinct primes p and q to  <br/>\n",
    "a) calculate **n** which is the product of p * q, and <br/>\n",
    "b) generate randomly selected public key **e**, where e is distinct from p or q and is relatively prime to the result of Euler's totient function of n euler_phi(n) = (p-1)(q-1) (represent the total number of coprime with n)"
   ]
  },
  {
   "cell_type": "code",
   "execution_count": 62,
   "metadata": {},
   "outputs": [
    {
     "name": "stdout",
     "output_type": "stream",
     "text": [
      "2291 55\n"
     ]
    }
   ],
   "source": [
    "n, e = Find_Public_Key_e(p, q)\n",
    "print(n ,e)"
   ]
  },
  {
   "cell_type": "markdown",
   "metadata": {},
   "source": [
    "**Step 3:** We uses the prime number p and q again with public key e to calculate private key **d** <br/>\n",
    "Function Find_Private_Key_d(e, p, q) takes e, p, q as inputs to calculate private key d <br/>\n",
    "In step 2, we eatablished the fact that public key e and Euler's phi function of n are relatively prime. <br/>\n",
    "Therefore, there exists private key d as the modular inverse to e. <br/>\n",
    "Find_Private_Key_d(e, p, q) uses the Extended Euclidean Algorithm to calculate the private key d."
   ]
  },
  {
   "cell_type": "code",
   "execution_count": 64,
   "metadata": {},
   "outputs": [
    {
     "name": "stdout",
     "output_type": "stream",
     "text": [
      "1231\n"
     ]
    }
   ],
   "source": [
    "d = Find_Private_Key_d(e, p, q)\n",
    "print(d)"
   ]
  },
  {
   "cell_type": "markdown",
   "metadata": {},
   "source": [
    "Hence, we have generated our pair of public, private keys e and d with modular divisor n. <br/>"
   ]
  },
  {
   "cell_type": "code",
   "execution_count": 66,
   "metadata": {},
   "outputs": [
    {
     "name": "stdout",
     "output_type": "stream",
     "text": [
      "p: 79 q: 29 n: 2291 e: 55 d: 1231\n"
     ]
    }
   ],
   "source": [
    "print(\"p:\", p, \"q:\", q, \"n:\", n, \"e:\", e, \"d:\", d)"
   ]
  },
  {
   "cell_type": "markdown",
   "metadata": {},
   "source": [
    "##### **ii) Encode a message**"
   ]
  },
  {
   "cell_type": "markdown",
   "metadata": {},
   "source": [
    "Second, the following will show how to encode message with the previously prepared public key e and mod divisor n. "
   ]
  },
  {
   "cell_type": "markdown",
   "metadata": {},
   "source": [
    "Basically, we turn each character in our message into unicode/ascii and encrypt each unicode/ascii int value by raising them to the power e (public key) and mod n (product of p * q), hence, message encoded. <br/>\n",
    "Function Encode(n, e, message) takes inputs n, e, message (a list of message character turned unicode/ascii int) and return a encrypted list of int values as ciphertext. "
   ]
  },
  {
   "cell_type": "code",
   "execution_count": 70,
   "metadata": {},
   "outputs": [
    {
     "name": "stdout",
     "output_type": "stream",
     "text": [
      "[272, 694, 318, 928, 1663, 2219, 2138, 1821, 47, 2138, 1764, 1663, 365, 1821, 2219, 694, 449, 1663, 2235, 1821, 449, 1663, 253, 1821, 2219, 694, 1663, 1295, 882, 694, 1222, 694, 1663, 2235, 449, 1821, 1222, 1663, 1192, 1985, 2138, 1764, 694, 1222, 1250, 1663, 1976, 1250, 449, 1250, 966, 2138, 318, 1821, 1192, 1663, 1663, 1663, 1574, 731, 1663, 1510, 928, 788, 882, 1250, 161, 1663, 1976, 694, 449, 47, 1222, 1250, 1764, 1663, 882, 928, 928, 703, 318, 377, 1181, 1181, 1257, 1257, 1257, 1114, 731, 1821, 204, 928, 204, 1574, 694, 1114, 365, 1821, 1222, 1181, 1257, 1250, 928, 365, 882, 818, 2219, 1199, 47, 131, 935, 1295, 731, 864, 47, 365, 2138, 935, 501, 1231, 47, 2138, 318, 928, 1199, 1976, 253, 778, 1913, 2017, 1540, 2017, 787, 787, 864, 743, 935, 743, 2017, 743, 606, 743, 1556]\n"
     ]
    }
   ],
   "source": [
    "message = \"Best violin cover for Love Theme from 'Cinema Paradiso'   by Itzhak Perlman https://www.youtube.com/watch?v=lY6Ty5lci6E&list=PL491D133526212027\"\n",
    "cipher_text = Encode(n=n, e=e, message=message) # encrypt message and assign result list of int to cipher_text\n",
    "print(cipher_text) # print ciphertext"
   ]
  },
  {
   "cell_type": "markdown",
   "metadata": {},
   "source": [
    "##### **iii) Decode the same message**"
   ]
  },
  {
   "cell_type": "markdown",
   "metadata": {},
   "source": [
    "Third, the following will show how to decode ciphertext with the prepared private key d and mod divisor n. "
   ]
  },
  {
   "cell_type": "markdown",
   "metadata": {},
   "source": [
    "Basically, we iterate through the list of cipther character, raise each encrypted int to the power d (private key) and mod n (product of p * q), hence, message decoded. <br/>\n",
    "Function Decode(n, d, cipher_text) takes inputs n, d, cipher_text (a list of encoded value in int) and return a decrypted string as the original message."
   ]
  },
  {
   "cell_type": "code",
   "execution_count": 74,
   "metadata": {},
   "outputs": [
    {
     "name": "stdout",
     "output_type": "stream",
     "text": [
      "Best violin cover for Love Theme from 'Cinema Paradiso'   by Itzhak Perlman https://www.youtube.com/watch?v=lY6Ty5lci6E&list=PL491D133526212027\n"
     ]
    }
   ],
   "source": [
    "message = Decode(n=n, d=d, cipher_text=cipher_text) # assign result str to message\n",
    "print(message) # print message str"
   ]
  },
  {
   "cell_type": "markdown",
   "metadata": {
    "tags": []
   },
   "source": [
    "### 5. Code Exchange Examples with online posts"
   ]
  },
  {
   "cell_type": "markdown",
   "metadata": {
    "tags": []
   },
   "source": [
    "##### **Example 1:** \n",
    "Public key n, e = 5251, 3 <br/>\n",
    "Private key n, d = 5251, 3403 <br/>\n",
    "message = `[2128, 1150, 4250, 1349, 1262, 3336, 2371, 2497, 519, 1262, 1263, 1105, 3336, 1349, 1262, 2310, 1105, 3336, 4115, 762, 2405, 1263, 1105, 3336, 1262, 1349, 1150, 1105, 1262, 506, 1105, 1105, 4723, 2405, 2497, 519, 1262, 1974, 2371, 58, 1262, 519, 1105, 1349, 1262, 4839, 1150, 1105, 2497, 1262, 1974, 2371, 58, 762, 1262, 13, 4679, 1573, 1262, 4115, 2371, 2310, 1105, 1262, 2405, 3336, 1262, 4839, 2371, 762, 1560, 2405, 2497, 519, 3250]`"
   ]
  },
  {
   "cell_type": "markdown",
   "metadata": {},
   "source": [
    "To read the ciphertext, I assigned the encrypted message to variable cipher_text and used the given product n and private key d to decrypt the message with function Decode(n, d, cipher_text). <br/>"
   ]
  },
  {
   "cell_type": "code",
   "execution_count": 78,
   "metadata": {},
   "outputs": [
    {
     "name": "stdout",
     "output_type": "stream",
     "text": [
      "Elisabeth stade: What song best describes the feeling you get when your RSA code is working?\n"
     ]
    }
   ],
   "source": [
    "cipher_text = [2128, 1150, 4250, 1349, 1262, 3336, 2371, 2497, 519, 1262, 1263, 1105, 3336, 1349, 1262, 2310, 1105, 3336, 4115, 762, 2405, 1263, 1105, 3336, 1262, 1349, 1150, 1105, 1262, 506, 1105, 1105, 4723, 2405, 2497, 519, 1262, 1974, 2371, 58, 1262, 519, 1105, 1349, 1262, 4839, 1150, 1105, 2497, 1262, 1974, 2371, 58, 762, 1262, 13, 4679, 1573, 1262, 4115, 2371, 2310, 1105, 1262, 2405, 3336, 1262, 4839, 2371, 762, 1560, 2405, 2497, 519, 3250]\n",
    "message = Decode(n=5251, d=3403, cipher_text=cipher_text) # assign result str to variable message\n",
    "print(\"Elisabeth stade:\", message) # print message str"
   ]
  },
  {
   "cell_type": "markdown",
   "metadata": {},
   "source": [
    "To read the replies under the post, I bascially employed the same method to decode the lists of encrypted integers. Here are some of the messages. "
   ]
  },
  {
   "cell_type": "code",
   "execution_count": 80,
   "metadata": {},
   "outputs": [
    {
     "name": "stdout",
     "output_type": "stream",
     "text": [
      "Brooke Neupert: Giorno's theme from Jojo's Bizzare Adventure, it's on my study playlist and was playing when I got my code working lol :)\n"
     ]
    }
   ],
   "source": [
    "cipher_text = [843, 2405, 2371, 762, 2497, 2371, 1558, 3336, 1262, 1349, 1150, 1105, 3283, 1105, 1262, 506, 762, 2371, 3283, 1262, 897, 2371, 4290, 2371, 1558, 3336, 1262, 3942, 2405, 4253, 4253, 4250, 762, 1105, 1262, 1573, 2310, 4720, 1105, 2497, 1349, 58, 762, 1105, 1168, 1262, 2405, 1349, 1558, 3336, 1262, 2371, 2497, 1262, 3283, 1974, 1262, 3336, 1349, 58, 2310, 1974, 1262, 2911, 4723, 4250, 1974, 4723, 2405, 3336, 1349, 1262, 4250, 2497, 2310, 1262, 4839, 4250, 3336, 1262, 2911, 4723, 4250, 1974, 2405, 2497, 519, 1262, 4839, 1150, 1105, 2497, 1262, 443, 1262, 519, 2371, 1349, 1262, 3283, 1974, 1262, 4115, 2371, 2310, 1105, 1262, 4839, 2371, 762, 1560, 2405, 2497, 519, 1262, 4723, 2371, 4723, 1262, 825, 658]\n",
    "message = Decode(n=5251, d=3403, cipher_text=cipher_text) # assign result str to variable message\n",
    "print(\"Brooke Neupert:\", message) # print message str"
   ]
  },
  {
   "cell_type": "code",
   "execution_count": 81,
   "metadata": {},
   "outputs": [
    {
     "name": "stdout",
     "output_type": "stream",
     "text": [
      "Elisabeth stade: Congratulations Brooke! Well done - this is a new record for posting. And cool song choice.\n"
     ]
    }
   ],
   "source": [
    "cipher_text = [1456, 2371, 2497, 519, 762, 4250, 1349, 58, 4723, 4250, 1349, 2405, 2371, 2497, 3336, 1262, 3942, 762, 2371, 2371, 1560, 1105, 4431, 1262, 2128, 1105, 4723, 4723, 1262, 2310, 2371, 2497, 1105, 1262, 1858, 1262, 1349, 1150, 2405, 3336, 1262, 2405, 3336, 1262, 4250, 1262, 2497, 1105, 4839, 1262, 762, 1105, 4115, 2371, 762, 2310, 1262, 506, 2371, 762, 1262, 2911, 2371, 3336, 1349, 2405, 2497, 519, 2818, 1262, 1573, 2497, 2310, 1262, 4115, 2371, 2371, 4723, 1262, 3336, 2371, 2497, 519, 1262, 4115, 1150, 2371, 2405, 4115, 1105, 2818]\n",
    "message = Decode(n=5251, d=3403, cipher_text=cipher_text) # assign result str to variable message\n",
    "print(\"Elisabeth stade:\", message) # print message str"
   ]
  },
  {
   "cell_type": "code",
   "execution_count": 82,
   "metadata": {},
   "outputs": [
    {
     "name": "stdout",
     "output_type": "stream",
     "text": [
      "S Dean Egan: I'm gonna say 'Only You' by Steve Monite. https://www.youtube.com/watch?v=wGsSAVz1BBQ\n"
     ]
    }
   ],
   "source": [
    "cipher_text = [443, 1558, 3283, 1262, 519, 2371, 2497, 2497, 4250, 1262, 3336, 4250, 1974, 1262, 1558, 4696, 2497, 4723, 1974, 1262, 1335, 2371, 58, 1558, 1262, 1263, 1974, 1262, 4679, 1349, 1105, 4720, 1105, 1262, 4947, 2371, 2497, 2405, 1349, 1105, 2818, 1262, 1150, 1349, 1349, 2911, 3336, 825, 4054, 4054, 4839, 4839, 4839, 2818, 1974, 2371, 58, 1349, 58, 1263, 1105, 2818, 4115, 2371, 3283, 4054, 4839, 4250, 1349, 4115, 1150, 3250, 4720, 1188, 4839, 843, 3336, 4679, 1573, 685, 4253, 2127, 3942, 3942, 1090]\n",
    "message = Decode(n=5251, d=3403, cipher_text=cipher_text) # assign result str to variable message\n",
    "print(\"S Dean Egan:\", message) # print message str"
   ]
  },
  {
   "cell_type": "code",
   "execution_count": 83,
   "metadata": {},
   "outputs": [
    {
     "name": "stdout",
     "output_type": "stream",
     "text": [
      "Elisabeth stade: Congratulations Dean! thanks for including the youtube link!\n"
     ]
    }
   ],
   "source": [
    "cipher_text = [1456, 2371, 2497, 519, 762, 4250, 1349, 58, 4723, 4250, 1349, 2405, 2371, 2497, 3336, 1262, 4623, 1105, 4250, 2497, 4431, 1262, 1349, 1150, 4250, 2497, 1560, 3336, 1262, 506, 2371, 762, 1262, 2405, 2497, 4115, 4723, 58, 2310, 2405, 2497, 519, 1262, 1349, 1150, 1105, 1262, 1974, 2371, 58, 1349, 58, 1263, 1105, 1262, 4723, 2405, 2497, 1560, 4431]\n",
    "message = Decode(n=5251, d=3403, cipher_text=cipher_text) # assign result str to variable message\n",
    "print(\"Elisabeth stade:\", message) # print message str"
   ]
  },
  {
   "cell_type": "code",
   "execution_count": 84,
   "metadata": {},
   "outputs": [
    {
     "name": "stdout",
     "output_type": "stream",
     "text": [
      "Erynn Naccarelli: Codes and Keys, Death Cab for Cutie\n"
     ]
    }
   ],
   "source": [
    "cipher_text = [1456, 2371, 2310, 1105, 3336, 1262, 4250, 2497, 2310, 1262, 1795, 1105, 1974, 3336, 1168, 1262, 4623, 1105, 4250, 1349, 1150, 1262, 1456, 4250, 1263, 1262, 506, 2371, 762, 1262, 1456, 58, 1349, 2405, 1105]\n",
    "message = Decode(n=5251, d=3403, cipher_text=cipher_text) # assign result str to variable message\n",
    "print(\"Erynn Naccarelli:\", message) # print message str"
   ]
  },
  {
   "cell_type": "code",
   "execution_count": 85,
   "metadata": {},
   "outputs": [
    {
     "name": "stdout",
     "output_type": "stream",
     "text": [
      "Elisabeth stade: Congratulations Erynn, and Welcome! \n"
     ]
    }
   ],
   "source": [
    "cipher_text = [1456, 2371, 2497, 519, 762, 4250, 1349, 58, 4723, 4250, 1349, 2405, 2371, 2497, 3336, 1262, 2947, 762, 1974, 2497, 2497, 1168, 1262, 4250, 2497, 2310, 1262, 2128, 1105, 4723, 4115, 2371, 3283, 1105, 4431, 1262]\n",
    "message = Decode(n=5251, d=3403, cipher_text=cipher_text) # assign result str to variable message\n",
    "print(\"Elisabeth stade:\", message) # print message str"
   ]
  },
  {
   "cell_type": "markdown",
   "metadata": {},
   "source": [
    "And I replied the post by encrypting my message with the given public key e and product n. (n = 5251, e = 3)"
   ]
  },
  {
   "cell_type": "code",
   "execution_count": 87,
   "metadata": {},
   "outputs": [
    {
     "name": "stdout",
     "output_type": "stream",
     "text": [
      "[1558, 4696, 4720, 1105, 762, 1262, 4592, 1150, 1105, 1262, 13, 4250, 2405, 2497, 1558, 1262, 1263, 1974, 1262, 4623, 897, 1262, 4696, 1795, 1573, 2128, 1573, 13, 443, 1262, 421, 1262, 2947, 3283, 2405, 4723, 1974, 1262, 4679, 1349, 1974, 4723, 1105, 762, 1168, 1262, 1150, 1349, 1349, 2911, 3336, 825, 4054, 4054, 4839, 4839, 4839, 2818, 1974, 2371, 58, 1349, 58, 1263, 1105, 2818, 4115, 2371, 3283, 4054, 4839, 4250, 1349, 4115, 1150, 3250, 4720, 1188, 1795, 519, 421, 58, 13, 321, 762, 4947, 2371, 685, 443]\n"
     ]
    }
   ],
   "source": [
    "my_reply = \"'Over The Rain' by DJ OKAWARI x Emily Styler, https://www.youtube.com/watch?v=KgxuR0rMoVI\"\n",
    "ciphertext = Encode(n=5251, e=3, message=my_reply)\n",
    "print(ciphertext)"
   ]
  },
  {
   "cell_type": "markdown",
   "metadata": {},
   "source": [
    "Which can be decoded to get back the exact same message with the mentioned private key d and product n. (n = 5251, d = 3403)"
   ]
  },
  {
   "cell_type": "code",
   "execution_count": 89,
   "metadata": {},
   "outputs": [
    {
     "name": "stdout",
     "output_type": "stream",
     "text": [
      "Calvin Yeung: 'Over The Rain' by DJ OKAWARI x Emily Styler, https://www.youtube.com/watch?v=KgxuR0rMoVI\n"
     ]
    }
   ],
   "source": [
    "cipher_text = [1558, 4696, 4720, 1105, 762, 1262, 4592, 1150, 1105, 1262, 13, 4250, 2405, 2497, 1558, 1262, 1263, 1974, 1262, 4623, 897, 1262, 4696, 1795, 1573, 2128, 1573, 13, 443, 1262, 421, 1262, 2947, 3283, 2405, 4723, 1974, 1262, 4679, 1349, 1974, 4723, 1105, 762, 1168, 1262, 1150, 1349, 1349, 2911, 3336, 825, 4054, 4054, 4839, 4839, 4839, 2818, 1974, 2371, 58, 1349, 58, 1263, 1105, 2818, 4115, 2371, 3283, 4054, 4839, 4250, 1349, 4115, 1150, 3250, 4720, 1188, 1795, 519, 421, 58, 13, 321, 762, 4947, 2371, 685, 443]\n",
    "message = Decode(n=5251, d=3403, cipher_text=cipher_text) # assign result str to variable message\n",
    "print(\"Calvin Yeung:\", message) # print message str"
   ]
  },
  {
   "cell_type": "markdown",
   "metadata": {},
   "source": [
    "The rest of the replies are skipped..."
   ]
  },
  {
   "cell_type": "markdown",
   "metadata": {
    "tags": []
   },
   "source": [
    "##### **Example 2:** \n",
    "Public key n, e = 3403, 21 <br/>\n",
    "Private key n, d = 3403, 781 <br/>\n",
    "message = `[1548, 637, 1655, 1655, 217, 2205, 2883, 2127, 637, 770, 2335, 217, 874, 637, 3026, 2205, 579, 1618, 354, 868, 2205, 2893, 2288, 2205, 2335, 217, 1072, 770, 2205, 2276, 217, 1234, 868, 217, 2205, 1664, 217, 1004, 1004, 637, 637, 2205, 674, 770, 2893, 874, 845, 1044]`"
   ]
  },
  {
   "cell_type": "markdown",
   "metadata": {},
   "source": [
    "Just like in Example 1, I used the given private key d and product n to decode the post and replies. (n = 3403, d = 781) "
   ]
  },
  {
   "cell_type": "code",
   "execution_count": 93,
   "metadata": {},
   "outputs": [
    {
     "name": "stdout",
     "output_type": "stream",
     "text": [
      "Brooke Neupert: Hello Everyone! What is your go-to coffee drink?\n"
     ]
    }
   ],
   "source": [
    "cipher_text = [1548, 637, 1655, 1655, 217, 2205, 2883, 2127, 637, 770, 2335, 217, 874, 637, 3026, 2205, 579, 1618, 354, 868, 2205, 2893, 2288, 2205, 2335, 217, 1072, 770, 2205, 2276, 217, 1234, 868, 217, 2205, 1664, 217, 1004, 1004, 637, 637, 2205, 674, 770, 2893, 874, 845, 1044]\n",
    "message = Decode(n=3403, d=781, cipher_text=cipher_text) # assign result str to variable message\n",
    "print(\"Brooke Neupert:\", message) # print message str"
   ]
  },
  {
   "cell_type": "markdown",
   "metadata": {},
   "source": [
    "The post followed by a series of replies which I decoded some of them in below. "
   ]
  },
  {
   "cell_type": "code",
   "execution_count": 95,
   "metadata": {},
   "outputs": [
    {
     "name": "stdout",
     "output_type": "stream",
     "text": [
      "S Dean Egan: I enjoy a nice, hot mocha.\n"
     ]
    }
   ],
   "source": [
    "cipher_text = [1959, 2205, 637, 874, 1534, 217, 2335, 2205, 354, 2205, 874, 2893, 1664, 637, 1104, 2205, 1618, 217, 868, 2205, 2843, 217, 1664, 1618, 354, 2711]\n",
    "message = Decode(n=3403, d=781, cipher_text=cipher_text) # assign result str to variable message\n",
    "print(\"S Dean Egan:\", message) # print message str"
   ]
  },
  {
   "cell_type": "markdown",
   "metadata": {},
   "source": [
    "I encrypted my reply with the given public key e and product n. (n = 3403, e = 21)"
   ]
  },
  {
   "cell_type": "code",
   "execution_count": 97,
   "metadata": {},
   "outputs": [
    {
     "name": "stdout",
     "output_type": "stream",
     "text": [
      "[1959, 2205, 674, 217, 874, 1884, 868, 2205, 1655, 2893, 845, 637, 2205, 868, 1618, 637, 2205, 868, 354, 2288, 868, 637, 2205, 217, 1004, 2205, 1664, 217, 1004, 1004, 637, 637, 2205, 868, 1618, 354, 868, 2205, 2843, 1072, 1664, 1618, 1104, 2205, 2288, 217, 2205, 1959, 2205, 1072, 2288, 1072, 354, 1655, 1655, 2335, 2205, 217, 770, 674, 637, 770, 2205, 354, 2205, 2843, 217, 1664, 1618, 354, 1104, 2205, 217, 770, 2205, 1534, 1072, 2288, 868, 2205, 354, 2205, 1664, 1072, 2471, 2205, 217, 1004, 2205, 1664, 1618, 217, 1664, 217, 1655, 354, 868, 637, 2711]\n"
     ]
    }
   ],
   "source": [
    "my_reply = \"I don't like the taste of coffee that much, so I usually order a mocha, or just a cup of chocolate.\"\n",
    "ciphertext = Encode(n=3403, e=21, message=my_reply)\n",
    "print(ciphertext)"
   ]
  },
  {
   "cell_type": "markdown",
   "metadata": {},
   "source": [
    "Which can be decoded in the same way we decoded the post with the given private key d and product n. (n = 3403, d = 781)"
   ]
  },
  {
   "cell_type": "code",
   "execution_count": 99,
   "metadata": {},
   "outputs": [
    {
     "name": "stdout",
     "output_type": "stream",
     "text": [
      "Calvin Yeung: I don't like the taste of coffee that much, so I usually order a mocha, or just a cup of chocolate.\n"
     ]
    }
   ],
   "source": [
    "cipher_text = [1959, 2205, 674, 217, 874, 1884, 868, 2205, 1655, 2893, 845, 637, 2205, 868, 1618, 637, 2205, 868, 354, 2288, 868, 637, 2205, 217, 1004, 2205, 1664, 217, 1004, 1004, 637, 637, 2205, 868, 1618, 354, 868, 2205, 2843, 1072, 1664, 1618, 1104, 2205, 2288, 217, 2205, 1959, 2205, 1072, 2288, 1072, 354, 1655, 1655, 2335, 2205, 217, 770, 674, 637, 770, 2205, 354, 2205, 2843, 217, 1664, 1618, 354, 1104, 2205, 217, 770, 2205, 1534, 1072, 2288, 868, 2205, 354, 2205, 1664, 1072, 2471, 2205, 217, 1004, 2205, 1664, 1618, 217, 1664, 217, 1655, 354, 868, 637, 2711]\n",
    "message = Decode(n=3403, d=781, cipher_text=cipher_text) # assign result str to variable message\n",
    "print(\"Calvin Yeung:\", message) # print message str"
   ]
  },
  {
   "cell_type": "code",
   "execution_count": 100,
   "metadata": {},
   "outputs": [
    {
     "name": "stdout",
     "output_type": "stream",
     "text": [
      "Joey: Honestly... Black coffee all the way.\n"
     ]
    }
   ],
   "source": [
    "cipher_text = [1548, 217, 874, 637, 2288, 868, 1655, 2335, 2711, 2711, 2711, 2205, 2895, 1655, 354, 1664, 845, 2205, 1664, 217, 1004, 1004, 637, 637, 2205, 354, 1655, 1655, 2205, 868, 1618, 637, 2205, 160, 354, 2335, 2711]\n",
    "message = Decode(n=3403, d=781, cipher_text=cipher_text) # assign result str to variable message\n",
    "print(\"Joey:\", message) # print message str"
   ]
  },
  {
   "cell_type": "code",
   "execution_count": 101,
   "metadata": {},
   "outputs": [
    {
     "name": "stdout",
     "output_type": "stream",
     "text": [
      "Mohammed Alsailani: I like my Nespresso Coffee Machine, I use it everyday\n"
     ]
    }
   ],
   "source": [
    "cipher_text = [1959, 2205, 1655, 2893, 845, 637, 2205, 2843, 2335, 2205, 1636, 637, 2288, 2471, 770, 637, 2288, 2288, 217, 2205, 1573, 217, 1004, 1004, 637, 637, 2205, 2373, 354, 1664, 1618, 2893, 874, 637, 1104, 2205, 1959, 2205, 1072, 2288, 637, 2205, 2893, 868, 2205, 637, 2127, 637, 770, 2335, 674, 354, 2335]\n",
    "message = Decode(n=3403, d=781, cipher_text=cipher_text) # assign result str to variable message\n",
    "print(\"Mohammed Alsailani:\", message) # print message str"
   ]
  },
  {
   "cell_type": "markdown",
   "metadata": {
    "tags": []
   },
   "source": [
    "##### **Example 3:** \n",
    "(*For the record p = 73, q = 61*) <br/>\n",
    "Public key n, e = 4453, 59 <br/>\n",
    "Private key n, d = 4453, 659 <br/>\n",
    "message = \n",
    "`[1518, 3582, 2479, 3487, 3559, 4435, 2039, 3559, 853, 2390, 3184, 1624, 3559, 1624, 761, 3835, 761, 4031, 3487, 3559, 247, 2479, 991, 2390, 3184, 1624, 4435, 3487, 761, 3559, 4316, 2209, 826, 3184, 2393, 3559, 2390, 1624, 3559, 635, 2390, 4031, 382, 1190, 3044, 3214, 853, 3559, 1624, 761, 3835, 761, 4031, 3487, 3559, 247, 2479, 991, 2390, 3184, 1624, 4435, 3487, 761, 3559, 4316, 2209, 826, 3184, 2393, 20, 3559, 1825, 646, 2209, 2209, 3559, 826, 853, 3559, 3582, 2479, 1624, 3184, 2566, 2479, 3559, 4031, 2479, 2566, 2479, 2393, 3184, 1624, 2479, 3559, 3582, 3487, 3487, 2690, 2039, 20, 3246, 3246, 2390, 2690, 761, 4031, 3969, 2039, 2690, 2390, 3487, 4435, 247, 853, 3969, 3835, 2390, 2393, 3246, 2479, 2209, 826, 3184, 2393, 3246, 3726, 3696, 2152, 382, 827, 2607, 3808, 3332, 2039, 635, 1494, 3214, 4031, 3835, 1518, 759, 1023, 2452, 827, 4316, 279, 2390, 1190, 2039, 4435, 4209, 1961, 418, 1023, 4031, 3184, 3835, 3184, 3835, 635, 826, 2393, 1023, 2452, 1961, 2157, 991, 4316, 3204, 4232, 2390, 1967, 382, 3044, 3214, 853, 3559, 1624, 761, 3835, 761, 4031, 3487, 3559, 247, 2479, 991, 2390, 3184, 1624, 4435, 3487, 761, 3559, 2039, 2390, 4031, 382, 20, 3559, 635, 2479, 3696, 3559, 2607, 1624, 761, 2393, 2390, 4031, 4435, 3487, 4435, 2390, 4031, 3559, 3246, 3559, 1582, 4435, 2209, 4435, 3184, 2393, 3559, 826, 853, 3559, 3582, 2479, 1624, 3184, 2566, 2479, 3559, 4031, 2479, 2566, 2479, 2393, 3184, 1624, 2479, 3559, 3582, 3487, 3487, 2690, 2039, 20, 3246, 3246, 2582, 2582, 2582, 3969, 853, 2390, 3184, 3487, 3184, 826, 761, 3969, 3835, 2390, 2393, 3246, 2582, 2479, 3487, 3835, 3582, 1190, 991, 4209, 4031, 2039, 1518, 1613, 991, 2254, 1961, 2641, 3098, 1825, 3383]`"
   ]
  },
  {
   "cell_type": "markdown",
   "metadata": {},
   "source": [
    "Bascially the same story, I used my public key e with product n to encode my post, and used my private key e with product n to read other's comments. (n = 4453, e = 59, d = 659)"
   ]
  },
  {
   "cell_type": "markdown",
   "metadata": {},
   "source": [
    "I typed out my message and encrypted the content with public key e and product n. "
   ]
  },
  {
   "cell_type": "code",
   "execution_count": 105,
   "metadata": {},
   "outputs": [
    {
     "name": "stdout",
     "output_type": "stream",
     "text": [
      "[1518, 3582, 2479, 3487, 3559, 4435, 2039, 3559, 853, 2390, 3184, 1624, 3559, 1624, 761, 3835, 761, 4031, 3487, 3559, 247, 2479, 991, 2390, 3184, 1624, 4435, 3487, 761, 3559, 4316, 2209, 826, 3184, 2393, 3559, 2390, 1624, 3559, 635, 2390, 4031, 382, 1190, 3044, 3214, 853, 3559, 1624, 761, 3835, 761, 4031, 3487, 3559, 247, 2479, 991, 2390, 3184, 1624, 4435, 3487, 761, 3559, 4316, 2209, 826, 3184, 2393, 20, 3559, 1825, 646, 2209, 2209, 3559, 826, 853, 3559, 3582, 2479, 1624, 3184, 2566, 2479, 3559, 4031, 2479, 2566, 2479, 2393, 3184, 1624, 2479, 3559, 3582, 3487, 3487, 2690, 2039, 20, 3246, 3246, 2390, 2690, 761, 4031, 3969, 2039, 2690, 2390, 3487, 4435, 247, 853, 3969, 3835, 2390, 2393, 3246, 2479, 2209, 826, 3184, 2393, 3246, 3726, 3696, 2152, 382, 827, 2607, 3808, 3332, 2039, 635, 1494, 3214, 4031, 3835, 1518, 759, 1023, 2452, 827, 4316, 279, 2390, 1190, 2039, 4435, 4209, 1961, 418, 1023, 4031, 3184, 3835, 3184, 3835, 635, 826, 2393, 1023, 2452, 1961, 2157, 991, 4316, 3204, 4232, 2390, 1967, 382, 3044, 3214, 853, 3559, 1624, 761, 3835, 761, 4031, 3487, 3559, 247, 2479, 991, 2390, 3184, 1624, 4435, 3487, 761, 3559, 2039, 2390, 4031, 382, 20, 3559, 635, 2479, 3696, 3559, 2607, 1624, 761, 2393, 2390, 4031, 4435, 3487, 4435, 2390, 4031, 3559, 3246, 3559, 1582, 4435, 2209, 4435, 3184, 2393, 3559, 826, 853, 3559, 3582, 2479, 1624, 3184, 2566, 2479, 3559, 4031, 2479, 2566, 2479, 2393, 3184, 1624, 2479, 3559, 3582, 3487, 3487, 2690, 2039, 20, 3246, 3246, 2582, 2582, 2582, 3969, 853, 2390, 3184, 3487, 3184, 826, 761, 3969, 3835, 2390, 2393, 3246, 2582, 2479, 3487, 3835, 3582, 1190, 991, 4209, 4031, 2039, 1518, 1613, 991, 2254, 1961, 2641, 3098, 1825, 3383]\n"
     ]
    }
   ],
   "source": [
    "my_post = \"\"\"What is your recent favourite Album or Song?\n",
    "My recent favourite Album: I'll by haruka nakamura https://open.spotify.com/album/1dOgFP65sSxMncWqJ8FADo?si=_XJnucucSbmJ8_VvAREo9g\n",
    "My recent favourite song: Sad Premonition / Lilium by haruka nakamura https://www.youtube.com/watch?v=nsW4vQ_NKIU\"\"\"\n",
    "ciphertext = Encode(n=4453, e=59, message=my_post)\n",
    "print(ciphertext)"
   ]
  },
  {
   "cell_type": "markdown",
   "metadata": {},
   "source": [
    "Which can be decoded with the given private key d and product n. "
   ]
  },
  {
   "cell_type": "code",
   "execution_count": 107,
   "metadata": {},
   "outputs": [
    {
     "name": "stdout",
     "output_type": "stream",
     "text": [
      "Calvin Yeung's post: What is your recent favourite Album or Song?\n",
      "My recent favourite Album: I'll by haruka nakamura https://open.spotify.com/album/1dOgFP65sSxMncWqJ8FADo?si=_XJnucucSbmJ8_VvAREo9g\n",
      "My recent favourite song: Sad Premonition / Lilium by haruka nakamura https://www.youtube.com/watch?v=nsW4vQ_NKIU\n"
     ]
    }
   ],
   "source": [
    "cipher_text = [1518, 3582, 2479, 3487, 3559, 4435, 2039, 3559, 853, 2390, 3184, 1624, 3559, 1624, 761, 3835, 761, 4031, 3487, 3559, 247, 2479, 991, 2390, 3184, 1624, 4435, 3487, 761, 3559, 4316, 2209, 826, 3184, 2393, 3559, 2390, 1624, 3559, 635, 2390, 4031, 382, 1190, 3044, 3214, 853, 3559, 1624, 761, 3835, 761, 4031, 3487, 3559, 247, 2479, 991, 2390, 3184, 1624, 4435, 3487, 761, 3559, 4316, 2209, 826, 3184, 2393, 20, 3559, 1825, 646, 2209, 2209, 3559, 826, 853, 3559, 3582, 2479, 1624, 3184, 2566, 2479, 3559, 4031, 2479, 2566, 2479, 2393, 3184, 1624, 2479, 3559, 3582, 3487, 3487, 2690, 2039, 20, 3246, 3246, 2390, 2690, 761, 4031, 3969, 2039, 2690, 2390, 3487, 4435, 247, 853, 3969, 3835, 2390, 2393, 3246, 2479, 2209, 826, 3184, 2393, 3246, 3726, 3696, 2152, 382, 827, 2607, 3808, 3332, 2039, 635, 1494, 3214, 4031, 3835, 1518, 759, 1023, 2452, 827, 4316, 279, 2390, 1190, 2039, 4435, 4209, 1961, 418, 1023, 4031, 3184, 3835, 3184, 3835, 635, 826, 2393, 1023, 2452, 1961, 2157, 991, 4316, 3204, 4232, 2390, 1967, 382, 3044, 3214, 853, 3559, 1624, 761, 3835, 761, 4031, 3487, 3559, 247, 2479, 991, 2390, 3184, 1624, 4435, 3487, 761, 3559, 2039, 2390, 4031, 382, 20, 3559, 635, 2479, 3696, 3559, 2607, 1624, 761, 2393, 2390, 4031, 4435, 3487, 4435, 2390, 4031, 3559, 3246, 3559, 1582, 4435, 2209, 4435, 3184, 2393, 3559, 826, 853, 3559, 3582, 2479, 1624, 3184, 2566, 2479, 3559, 4031, 2479, 2566, 2479, 2393, 3184, 1624, 2479, 3559, 3582, 3487, 3487, 2690, 2039, 20, 3246, 3246, 2582, 2582, 2582, 3969, 853, 2390, 3184, 3487, 3184, 826, 761, 3969, 3835, 2390, 2393, 3246, 2582, 2479, 3487, 3835, 3582, 1190, 991, 4209, 4031, 2039, 1518, 1613, 991, 2254, 1961, 2641, 3098, 1825, 3383]\n",
    "message = Decode(n=4453, d=659, cipher_text=cipher_text) # assign result str to variable message\n",
    "print(\"Calvin Yeung's post:\", message) # print message str"
   ]
  },
  {
   "cell_type": "markdown",
   "metadata": {},
   "source": [
    "The following are the replies from other students. "
   ]
  },
  {
   "cell_type": "code",
   "execution_count": 109,
   "metadata": {},
   "outputs": [
    {
     "name": "stdout",
     "output_type": "stream",
     "text": [
      "Brooke Neupert: My recent favorite song is 'Moderation' by Florence and the Machine!\n"
     ]
    }
   ],
   "source": [
    "cipher_text = [3214, 853, 3559, 1624, 761, 3835, 761, 4031, 3487, 3559, 247, 2479, 991, 2390, 1624, 4435, 3487, 761, 3559, 2039, 2390, 4031, 382, 3559, 4435, 2039, 3559, 646, 3214, 2390, 3696, 761, 1624, 2479, 3487, 4435, 2390, 4031, 646, 3559, 826, 853, 3559, 827, 2209, 2390, 1624, 761, 4031, 3835, 761, 3559, 2479, 4031, 3696, 3559, 3487, 3582, 761, 3559, 3214, 2479, 3835, 3582, 4435, 4031, 761, 2599]\n",
    "message = Decode(n=4453, d=659, cipher_text=cipher_text) # assign result str to variable message\n",
    "print(\"Brooke Neupert:\", message) # print message str"
   ]
  },
  {
   "cell_type": "code",
   "execution_count": 110,
   "metadata": {},
   "outputs": [
    {
     "name": "stdout",
     "output_type": "stream",
     "text": [
      "Elsa Mcdowell: Recent-ish favorite is Adele's 'Easy on Me' https://www.youtube.com/watch?v=U3ASj1L6_sY\n"
     ]
    }
   ],
   "source": [
    "cipher_text = [3204, 761, 3835, 761, 4031, 3487, 3984, 4435, 2039, 3582, 3559, 247, 2479, 991, 2390, 1624, 4435, 3487, 761, 3559, 4435, 2039, 3559, 4316, 3696, 761, 2209, 761, 646, 2039, 3559, 646, 4232, 2479, 2039, 853, 3559, 2390, 4031, 3559, 3214, 761, 646, 3559, 3582, 3487, 3487, 2690, 2039, 20, 3246, 3246, 2582, 2582, 2582, 3969, 853, 2390, 3184, 3487, 3184, 826, 761, 3969, 3835, 2390, 2393, 3246, 2582, 2479, 3487, 3835, 3582, 1190, 991, 4209, 3383, 1470, 4316, 635, 263, 3726, 1582, 3808, 1961, 2039, 1610]\n",
    "message = Decode(n=4453, d=659, cipher_text=cipher_text) # assign result str to variable message\n",
    "print(\"Elsa Mcdowell:\", message) # print message str"
   ]
  },
  {
   "cell_type": "code",
   "execution_count": 111,
   "metadata": {},
   "outputs": [
    {
     "name": "stdout",
     "output_type": "stream",
     "text": [
      "Charlie Bailey: What is a favorite quote that comes to mind when you think about working on this project? One that kept coming up for me is: 'It always seems impossible until it is done.' --Nelson Mandela\n"
     ]
    }
   ],
   "source": [
    "cipher_text = [5514, 3530, 776, 1895, 4584, 5062, 5327, 4584, 776, 4584, 2066, 776, 3506, 5746, 7296, 5062, 1895, 8532, 4584, 7873, 3376, 5746, 1895, 8532, 4584, 1895, 3530, 776, 1895, 4584, 5767, 5746, 4823, 8532, 5327, 4584, 1895, 5746, 4584, 4823, 5062, 6361, 6821, 4584, 4775, 3530, 8532, 6361, 4584, 4050, 5746, 3376, 4584, 1895, 3530, 5062, 6361, 2828, 4584, 776, 6403, 5746, 3376, 1895, 4584, 4775, 5746, 7296, 2828, 5062, 6361, 3692, 4584, 5746, 6361, 4584, 1895, 3530, 5062, 5327, 4584, 705, 7296, 5746, 2901, 8532, 5767, 1895, 725, 4584, 6604, 6361, 8532, 4584, 1895, 3530, 776, 1895, 4584, 2828, 8532, 705, 1895, 4584, 5767, 5746, 4823, 5062, 6361, 3692, 4584, 3376, 705, 4584, 2066, 5746, 7296, 4584, 4823, 8532, 4584, 5062, 5327, 8061, 4584, 6683, 5262, 1895, 4584, 776, 5578, 4775, 776, 4050, 5327, 4584, 5327, 8532, 8532, 4823, 5327, 4584, 5062, 4823, 705, 5746, 5327, 5327, 5062, 6403, 5578, 8532, 4584, 3376, 6361, 1895, 5062, 5578, 4584, 5062, 1895, 4584, 5062, 5327, 4584, 6821, 5746, 6361, 8532, 7982, 6683, 4584, 3716, 3716, 5283, 8532, 5578, 5327, 5746, 6361, 4584, 7488, 776, 6361, 6821, 8532, 5578, 776]\n",
    "message = Decode(n= 8633, d=4549, cipher_text=cipher_text) # assign result str to variable message\n",
    "print(\"Charlie Bailey:\", message) # print message str"
   ]
  },
  {
   "cell_type": "code",
   "execution_count": 112,
   "metadata": {},
   "outputs": [
    {
     "name": "stdout",
     "output_type": "stream",
     "text": [
      "Andrew Byrnes: But I’ve got to work hard. If I just keep talking and don’t put some work in, it’s not going to happen. - Giannis Antetokounmpo\n"
     ]
    }
   ],
   "source": [
    "cipher_text = [4368, 3376, 1895, 4584, 5262, 4129, 3506, 8532, 4584, 3692, 5746, 1895, 4584, 1895, 5746, 4584, 4775, 5746, 7296, 2828, 4584, 3530, 776, 7296, 6821, 7982, 4584, 5262, 2066, 4584, 5262, 4584, 2901, 3376, 5327, 1895, 4584, 2828, 8532, 8532, 705, 4584, 1895, 776, 5578, 2828, 5062, 6361, 3692, 4584, 776, 6361, 6821, 4584, 6821, 5746, 6361, 4129, 1895, 4584, 705, 3376, 1895, 4584, 5327, 5746, 4823, 8532, 4584, 4775, 5746, 7296, 2828, 4584, 5062, 6361, 289, 4584, 5062, 1895, 4129, 5327, 4584, 6361, 5746, 1895, 4584, 3692, 5746, 5062, 6361, 3692, 4584, 1895, 5746, 4584, 3530, 776, 705, 705, 8532, 6361, 7982, 4584, 3716, 4584, 6072, 5062, 776, 6361, 6361, 5062, 5327, 4584, 8414, 6361, 1895, 8532, 1895, 5746, 2828, 5746, 3376, 6361, 4823, 705, 5746]\n",
    "message = Decode(n= 8633, d=4549, cipher_text=cipher_text) # assign result str to variable message\n",
    "print(\"Andrew Byrnes:\", message) # print message str"
   ]
  },
  {
   "cell_type": "markdown",
   "metadata": {
    "tags": []
   },
   "source": [
    "### 6. The process of developing this RSA thing ...\n"
   ]
  },
  {
   "cell_type": "markdown",
   "metadata": {
    "tags": []
   },
   "source": [
    "**Lesson learned** <br/>\n",
    "&nbsp;&nbsp;&nbsp;&nbsp;&nbsp;&nbsp; I started the RSA exploration by doing some background reading about RSA. I learned that modern communication is based and depended on the RSA algorithm. From browser, to email and banks, RSA is used every day everywhere. I learned that the Fundamental Theorem of Arithmetic set the math base for RSA, Fast Modular Exponentiation set the tool for RSA operation, decimal to binary conversion set the crucial step in FME, and the ideas like prime, relatively prime, and modular inverse set the relationship between keys. I learned an important lesson that math is not calculations but relationships. \n",
    "\n",
    "**Most challenging parts** <br/>\n",
    "&nbsp;&nbsp;&nbsp;&nbsp;&nbsp;&nbsp; I would say the most challenging part was to think through the related math concepts and translate the math into code. For instance, How relatively prime is a relationship between 2 numbers but not a quality of 1 number (like prime or composite), How the relatively prime relationship implies the existence of modular inverse, and How the modular inverse could be captured by the Extended Euclidean Algorithm. Without a thorough understanding of the series of math concepts, it was impossible to implement the RSA Algorithm in Python code. And even after thinking it through, it was still tricky to turn the ideas into a consistently working program. \n",
    "\n",
    "&nbsp;&nbsp;&nbsp;&nbsp;&nbsp;&nbsp; In particular, among all required functions for the RSA algorithm, I found `Extended_Euclidean_Alg(a, b)` and `Find_Private_Key_d(e, p, q)` to be the most challenging. The idea of Bezout coefficient just would not click! I eventually realized how to implement the key algebraic calculation `𝑠2,𝑡2=𝑠1−(𝑞)(𝑠2),𝑡1−(𝑞)(𝑡2)`. If we design the computation properly to to update the coefficient `s1, t1, s2, t2`, we can simply extended the previously defined Euclidean Algorithm to get the Bezout coefficients. \n",
    "\n",
    "\n",
    "**Summing up** <br/>\n",
    "\n",
    "Exploring on RSA design and implementation reminds me the quote \"Any sufficiently advanced technology is indistinguishable from magic\". RSA feels similar. The way Fast modular exponentiation uses decimal to binary conversion still feels like magic to me. The idea of putting different qualities and definitions of prime, relatively prime, modular inverse, congruence together to form RSA algorithm is still magical if not miracle. But after all the struggles to understand the magic tricks, I think I have learned a lot from this exploration and excelled in math understanding and coding skill."
   ]
  },
  {
   "cell_type": "markdown",
   "metadata": {
    "tags": []
   },
   "source": [
    "### 7. FME Exploration\n",
    "\n",
    "\n",
    "\n",
    "* The following discuss why RSA needs to use an FME function and cannot just simply use the Python Mod function % .\n",
    "\n",
    "* Which comes with some examples of charts. \n",
    "\n",
    "\n"
   ]
  },
  {
   "cell_type": "markdown",
   "metadata": {},
   "source": [
    "I choose to following Sriram's design of FME algorithm because it is the **easiest to implement** and **most efficient** algorithm among the 3.\n",
    "\n",
    "First, Sriram’s Version of FME is **easiest to implement** in the sense that it does **not require extra function or block of code to preprocess the inputs**. Sriram’s FME uses modular division (%) to retrieve the binary digit value during each iteration in the while loop. In contrast, textbook FME requires to prepare the exponent n in a string binary sequence and my own square and mod algorithm requires to build a square and mod look up chart in a dictionary. \n",
    "    \n",
    "Second, Sriram’s Version FME is the **most efficient** in terms of **memory space**. Only need integer variables to keep tract of the result and the square and mod valve during each iteration. In contrast, textbook FEM needs extra memory space to store the exponent in a list of binary digits and loop up to each digit during the for loop. And my own square and mod algorithm needs a square and mod dictionary and a reversed list of keys as reference to access the dictionary. Both the textbook FEM and my algorithm requires extra memory space and extra steps. \n",
    "    \n",
    "Third, Sriram’s Version FME is the **most efficient** in terms of the **tested runtime**. I tested the 3 algorithms and found that with input b = 3245423, n = 7257527, m = 19, Sriram’s Version executes in shortest period of time, followed by the textbook Version, and at last my square and mod algorithm. Sriram’s Version only takes 12.2 µs to run. Textbook Version takes 21 µs to execute. And my square and mod takes 59.4 s to terminate (followed by the over 1 min standard `b**n % m` and `pow()` function). \n"
   ]
  },
  {
   "cell_type": "code",
   "execution_count": 117,
   "metadata": {},
   "outputs": [
    {
     "name": "stdout",
     "output_type": "stream",
     "text": [
      "CPU times: user 5 μs, sys: 0 ns, total: 5 μs\n",
      "Wall time: 6.91 μs\n"
     ]
    },
    {
     "data": {
      "text/plain": [
       "15"
      ]
     },
     "execution_count": 117,
     "metadata": {},
     "output_type": "execute_result"
    }
   ],
   "source": [
    "%%time\n",
    "sriram_FME(3245423, 7257527, 19)"
   ]
  },
  {
   "cell_type": "code",
   "execution_count": 118,
   "metadata": {},
   "outputs": [
    {
     "name": "stdout",
     "output_type": "stream",
     "text": [
      "CPU times: user 12 μs, sys: 1 μs, total: 13 μs\n",
      "Wall time: 12.6 μs\n"
     ]
    },
    {
     "data": {
      "text/plain": [
       "15"
      ]
     },
     "execution_count": 118,
     "metadata": {},
     "output_type": "execute_result"
    }
   ],
   "source": [
    "%%time\n",
    "epp_FME(3245423, 7257527, 19)"
   ]
  },
  {
   "cell_type": "code",
   "execution_count": 119,
   "metadata": {},
   "outputs": [
    {
     "name": "stdout",
     "output_type": "stream",
     "text": [
      "CPU times: user 1min 15s, sys: 529 ms, total: 1min 15s\n",
      "Wall time: 1min 16s\n"
     ]
    },
    {
     "data": {
      "text/plain": [
       "15"
      ]
     },
     "execution_count": 119,
     "metadata": {},
     "output_type": "execute_result"
    }
   ],
   "source": [
    "%%time\n",
    "my_square_and_mod(3245423, 7257527, 19)"
   ]
  },
  {
   "cell_type": "code",
   "execution_count": 120,
   "metadata": {},
   "outputs": [],
   "source": [
    "def not_fme_standard(b:int, n:int, m:int) -> int: # b = base, n = exponent, m = mod divisor\n",
    "    \"\"\"\n",
    "    Non-FME modular function with standard % operator\n",
    "    \"\"\"\n",
    "    return b**n % m # result base ** exponent (mod m)"
   ]
  },
  {
   "cell_type": "code",
   "execution_count": 121,
   "metadata": {},
   "outputs": [
    {
     "name": "stdout",
     "output_type": "stream",
     "text": [
      "CPU times: user 1min 57s, sys: 1.24 s, total: 1min 59s\n",
      "Wall time: 2min\n"
     ]
    },
    {
     "data": {
      "text/plain": [
       "15"
      ]
     },
     "execution_count": 121,
     "metadata": {},
     "output_type": "execute_result"
    }
   ],
   "source": [
    "%%time\n",
    "not_fme_standard(3245423, 7257527, 19)"
   ]
  },
  {
   "cell_type": "code",
   "execution_count": 122,
   "metadata": {},
   "outputs": [],
   "source": [
    "def not_fme_with_pow(b:int, n:int, m:int) -> int: # b = base, n = exponent, m = mod divisor\n",
    "    \"\"\"\n",
    "    Non-FME modular function with pow()\n",
    "    \"\"\"\n",
    "    return pow(b, n) % m # result base ** exponent (mod m)\n",
    "    "
   ]
  },
  {
   "cell_type": "code",
   "execution_count": 123,
   "metadata": {},
   "outputs": [
    {
     "name": "stdout",
     "output_type": "stream",
     "text": [
      "CPU times: user 1min 57s, sys: 1.04 s, total: 1min 58s\n",
      "Wall time: 1min 58s\n"
     ]
    },
    {
     "data": {
      "text/plain": [
       "15"
      ]
     },
     "execution_count": 123,
     "metadata": {},
     "output_type": "execute_result"
    }
   ],
   "source": [
    "%%time\n",
    "not_fme_with_pow(3245423, 7257527, 19)"
   ]
  },
  {
   "cell_type": "markdown",
   "metadata": {
    "tags": []
   },
   "source": [
    "## CODE BREAKING ##\n",
    "**Implementing a factoring algorithm:**\n",
    "\n",
    "Begin by coding the basic brute force factorization algorithm given in pseudocode below.\n",
    "\n",
    "Brute Force Factoring\n",
    "<pre><code>def factorize(n):\n",
    "    # n is a number, return the smallest factor of n\n",
    "    for i from 2 to n-1:\n",
    "        if i divides n:\n",
    "            return i\n",
    "        return FALSE\n",
    "        </code></pre>\n"
   ]
  },
  {
   "cell_type": "code",
   "execution_count": 125,
   "metadata": {},
   "outputs": [],
   "source": [
    "def factorize(n):\n",
    "    \"\"\"\n",
    "    n is a number, return the smallest factor of n\n",
    "    \"\"\"\n",
    "    for i in range(2, n-1):\n",
    "        if n % i == 0:\n",
    "            return i\n",
    "    return 1"
   ]
  },
  {
   "cell_type": "code",
   "execution_count": 126,
   "metadata": {},
   "outputs": [
    {
     "name": "stdout",
     "output_type": "stream",
     "text": [
      "CPU times: user 215 ms, sys: 2.01 ms, total: 217 ms\n",
      "Wall time: 216 ms\n"
     ]
    },
    {
     "data": {
      "text/plain": [
       "6100019"
      ]
     },
     "execution_count": 126,
     "metadata": {},
     "output_type": "execute_result"
    }
   ],
   "source": [
    "%%time \n",
    "factorize(801134594429489) # 15 digits == 801134594429489 14 digits == 11558012864219   # 13 digits == 2276769352523"
   ]
  },
  {
   "cell_type": "markdown",
   "metadata": {},
   "source": [
    "##### Code breaking post 1:"
   ]
  },
  {
   "cell_type": "markdown",
   "metadata": {},
   "source": [
    "Public key n, e = 712031, 73 <br/>\n",
    "message =\n",
    "`[345220, 502512, 382934, 266515, 615855, 12548, 199146, 570369, 636936, 570369, 62224, 296859, 178677, 615855, 145297, 12548, 158522, 570369, 502512, 615855, 382934, 12548, 265469, 62224, 50973, 266515, 199146, 296859, 423978, 335364, 386868, 615855, 121530, 570369, 62224, 502512, 145297, 296859, 615855, 180010, 296859, 199146, 296859, 50973, 570369, 382934, 12548, 615855, 703632, 671797, 615855, 162275, 62224, 62224, 570369, 12548, 615855, 412591, 12548, 199146, 199146, 570369, 423978, 12548, 62224, 502512, 615855, 110030, 266515, 266515, 675498, 382934, 386868, 431875, 431875, 295809, 295809, 295809, 476718, 671797, 12548, 265469, 266515, 265469, 703632, 502512, 476718, 423978, 12548, 145297, 431875, 295809, 296859, 266515, 423978, 110030, 232669, 158522, 222582, 609607, 178677, 520278, 110030, 203225, 180010, 502512, 345220, 620967, 180010, 162275]`"
   ]
  },
  {
   "cell_type": "markdown",
   "metadata": {},
   "source": [
    "##### Code breaking post 2:"
   ]
  },
  {
   "cell_type": "markdown",
   "metadata": {},
   "source": [
    "\n",
    "Public key n, e = 13751264097121, 69 <br/>\n",
    "message =\n",
    "`[2135347445504, 7372521253770, 3111584381064, 7233979659883, 264421020497, 10392654759172, 4886506373048, 8604236098805, 12786157630485, 6009244347317, 264421020497, 7233979659883, 4831480052795, 264421020497, 7372521253770, 11254900470014, 10122382440594, 4831480052795, 8171795758749, 264421020497, 12442298340622, 12980285306240, 7233979659883, 7372521253770, 9341285040866, 264421020497, 12980285306240, 1175870131246, 13412458922189, 1175870131246, 11254900470014, 1487199179460, 264421020497, 7233979659883, 10742982498775, 7372521253770, 264421020497, 8604236098805, 12786157630485, 1487199179460, 1487199179460, 8171795758749, 264421020497, 659477501168, 4831480052795, 4035829014810, 7372521253770, 3338379403158, 264421020497, 4947085054942, 7372521253770, 3111584381064, 7233979659883, 4831480052795, 9341285040866, 7372521253770, 264421020497, 8604236098805, 8171795758749, 264421020497, 7312450185958, 5775243505310, 264421020497, 7533200861997, 8906261056931, 10392654759172, 7805816016529, 10392654759172, 4947085054942, 9013139729021, 264421020497, 6563040788454, 264421020497, 8610825637439, 6009244347317, 1175870131246, 4886506373048, 8171795758749, 264421020497, 1490940933591, 7233979659883, 8171795758749, 4886506373048, 7372521253770, 9341285040866, 264421020497, 264421020497, 264421020497, 10742982498775, 7233979659883, 7233979659883, 3200256756104, 3111584381064, 3338379403158, 802263388698, 802263388698, 11319438485900, 11319438485900, 11319438485900, 2139981406033, 8171795758749, 4831480052795, 12786157630485, 7233979659883, 12786157630485, 8604236098805, 7372521253770, 2139981406033, 659477501168, 4831480052795, 6009244347317, 802263388698, 3200256756104, 4886506373048, 12442298340622, 8171795758749, 4886506373048, 1175870131246, 3111584381064, 7233979659883, 8354783478032, 4886506373048, 1175870131246, 3111584381064, 7233979659883, 7763017426730, 9730242350436, 61462307330, 13238783683195, 7533200861997, 8171795758749, 13646256872497, 11402575310208, 7805816016529, 2037294942819, 11402575310208, 4035829014810, 9013139729021, 7233979659883, 9013139729021, 3200256756104, 7312450185958, 1487199179460, 8171795758749, 9013139729021, 13646256872497, 9730242350436, 9299910532579, 9341285040866, 13242206332803, 11319438485900, 11254900470014, 2789882547925, 12786157630485, 8171795758749, 6667637333363, 8604236098805, 4886506373048, 12786157630485, 1490940933591]`"
   ]
  },
  {
   "cell_type": "markdown",
   "metadata": {
    "tags": []
   },
   "source": [
    "### 8. How to Break RSA Code. \n",
    "* The following explain in detail how breaking works in this text block. \n",
    "* What are the complete steps and What tools are required.\n",
    "* How secure is RSA? Why is it difficult to break codes in RSA? \n",
    "* Is our implementation of RSA above secure? What are it's flaws?\n",
    "\n",
    "\n",
    "\n",
    "\n",
    "\n",
    "\n",
    "\n"
   ]
  },
  {
   "cell_type": "markdown",
   "metadata": {},
   "source": [
    "Code breaking works by reverse engineering. We use the publicly known product n and public key e to calculate the private key `d` to decrypt the ciphertext. Since n is a composite number as the product of 2 distinct primes p and q, we can run a simple brute force linear search algorithm (like the given `factorize(n)`) to retrieve one of the prime factors (like p), and use division to get the counterpart (like q). With the primes p and q at hand, we can then use the previously implemented `Find_Private_Key_d(e, p, q)` function which uses the extended euclidean algorithm with euler totient function (p-1)*(q-1) to calculate the modular inverse of e. Then, we use the modular inverse private key d (make sure it is the unique positive modular inverse within 1 <= d < modular divisor) and the given product n to run Fast Modular Exponentiation algorithm to decode the ciphertext. \n",
    "\n",
    "RSA algorithm is secure if it is implemented properly with large enough numbers. RSA security is based solely on the difficulty to factorize massively large composite number, for instance, current standard is 617 decimal digits in 2048 bits. Selecting large distinct prime p and q to produce large n is easy, but factorizing long digits number is hard. Time complexity for prime factorization increases exponentially as the number of digits increases. It might take decades, if not centuries, to factorize the p and q to break RSA. Indeed, there exists faster factorization methods like the Pollard's Rho algorithm, but, in general, prime factorization is still very hard which is currently categorized as NP class problem. \n",
    "\n",
    "One thing worth noting is that our current implementation of RSA is NOT secure at all. Since our RSA algorithm lacks any padding and chunking, it is rather easy to do educated guess or build a simple make a cipher to glyph dictionary with the given n and e to translate the ciphertext back into unicode.\n",
    "\n"
   ]
  },
  {
   "cell_type": "markdown",
   "metadata": {
    "tags": []
   },
   "source": [
    "### 9. Decode!  Use a mix of text and code blocks"
   ]
  },
  {
   "cell_type": "markdown",
   "metadata": {
    "tags": []
   },
   "source": [
    "##### **Decode example in details with all steps (n with 4 digits):**\n",
    "n = 1957 <br/>\n",
    "e = 5 <br/>\n",
    "message = `[639, 928, 689, 1667, 1353, 1769, 689, 1667, 1890, 928, 1353, 1667, 1678, 1477, 773, 1769, 184, 1426, 1667, 184, 1710, 689, 689, 1426, 1791, 1667, 1642, 1769, 1353, 1890, 1371, 1769, 1133, 1667, 184, 928, 773, 184, 1667, 928, 689, 1667, 1890, 1371, 1477, 1477, 1667, 1769, 689, 986, 689, 1710, 1667, 1426, 1371, 184, 1667, 1371, 1769, 1667, 184, 928, 689, 1371, 1710, 1667, 1426, 928, 773, 66, 689, 1791, 1667, 928, 773, 1426, 1667, 773, 184, 1667, 1477, 689, 773, 1426, 184, 1667, 1426, 184, 773, 1710, 184, 689, 66, 1667, 184, 1353, 1667, 1915, 1769, 66, 689, 1710, 1426, 184, 773, 1769, 66, 1667, 184, 928, 689, 1667, 257, 689, 773, 1769, 1371, 1769, 1133, 1667, 1353, 1132, 1667, 1477, 1371, 1132, 689, 468, 1667, 638, 1667, 879, 773, 1098, 1371, 1769, 66, 1710, 773, 1769, 773, 184, 928, 1667, 639, 773, 1133, 1353, 1710, 689]`"
   ]
  },
  {
   "cell_type": "markdown",
   "metadata": {},
   "source": [
    "First, we assigned the given product n to variable n and public key e to variable e as reference. <br/>"
   ]
  },
  {
   "cell_type": "code",
   "execution_count": 136,
   "metadata": {},
   "outputs": [],
   "source": [
    "n = 1957  # given\n",
    "e = 5  # given"
   ]
  },
  {
   "cell_type": "markdown",
   "metadata": {},
   "source": [
    "Then, we called the functions prime_factorize_linear(n) and prime_factorize_the_other_prime(n, smaller) to find p and q. <br/>\n",
    "prime_factorize_linear(n) is basically a brute force linear seach to look for the smallest factor of n (assume n is product of 2 distinct primes). <br/>\n",
    "prime_factorize_the_other_prime(n, smaller) runs integer division with the given smaller prime factor to find the larger factor. <br/>"
   ]
  },
  {
   "cell_type": "code",
   "execution_count": 138,
   "metadata": {},
   "outputs": [],
   "source": [
    "\"\"\"\n",
    "Break Codes \n",
    "\"\"\"\n",
    "\n",
    "def prime_factorize_linear(n): # step 1. find smaller prime\n",
    "    \"\"\"\n",
    "    my version of linear brute force factorization (slightly faster)\n",
    "    n is a number, return the smallest factor of n (assume n is product of 2 primes)\n",
    "    \"\"\"\n",
    "    if (n % 2 == 0):\n",
    "        return 2\n",
    "    for i in range(3, int(sqrt(n)) + 1, 2):  # If n is a composite integer, then n has a prime divisor less than or equal to √n, AND skip EVEN.\n",
    "        if (n % i == 0): \n",
    "            return i\n",
    "    return 1 # if none of the above works, then it is prime\n",
    "\n",
    "def prime_factorize_the_other_prime(n, smaller): # step 2, find larger prime\n",
    "    \"\"\"\n",
    "    assume n is product of 2 primes\n",
    "    use the smaller prime to divide n to get the larget prime \n",
    "    \"\"\"\n",
    "    return n // smaller # int division to prevent .00"
   ]
  },
  {
   "cell_type": "code",
   "execution_count": 139,
   "metadata": {},
   "outputs": [
    {
     "name": "stdout",
     "output_type": "stream",
     "text": [
      "p: 19 q: 103\n"
     ]
    }
   ],
   "source": [
    "p = prime_factorize_linear(n)  # find smaller prime factor\n",
    "q = prime_factorize_the_other_prime(n, p) # get larger prime factor\n",
    "print(\"p:\", p, \"q:\", q)"
   ]
  },
  {
   "cell_type": "markdown",
   "metadata": {},
   "source": [
    "With the retrieved prime number p and q, we used the function Find_Private_Key_d(e, p, q) to calculate the hidden private key d. <br/>\n",
    "Find_Private_Key_d(e, p, q) calculates private key d (the mod inverse to e) wtih Extended Euclidean Algorithm. "
   ]
  },
  {
   "cell_type": "code",
   "execution_count": 141,
   "metadata": {},
   "outputs": [
    {
     "name": "stdout",
     "output_type": "stream",
     "text": [
      "d: 1469\n"
     ]
    }
   ],
   "source": [
    "d = Find_Private_Key_d(e, p, q) # calculate d\n",
    "print(\"d:\", d)"
   ]
  },
  {
   "cell_type": "markdown",
   "metadata": {},
   "source": [
    "With product n, public key e, and private key d at hand, we can freely encode or decode any message. <br/>\n",
    "Decode(n, d, cipher_text) raises each cipher character to power d and mod n to return the original message."
   ]
  },
  {
   "cell_type": "code",
   "execution_count": 143,
   "metadata": {},
   "outputs": [
    {
     "name": "stdout",
     "output_type": "stream",
     "text": [
      "Paul Schneider: The one who plants trees, knowing that he will never sit in their shade, has at least started to understand the meaning of life. - Rabindranath Tagore\n"
     ]
    }
   ],
   "source": [
    "cipher_text = [639, 928, 689, 1667, 1353, 1769, 689, 1667, 1890, 928, 1353, 1667, 1678, 1477, 773, 1769, 184, 1426, 1667, 184, 1710, 689, 689, 1426, 1791, 1667, 1642, 1769, 1353, 1890, 1371, 1769, 1133, 1667, 184, 928, 773, 184, 1667, 928, 689, 1667, 1890, 1371, 1477, 1477, 1667, 1769, 689, 986, 689, 1710, 1667, 1426, 1371, 184, 1667, 1371, 1769, 1667, 184, 928, 689, 1371, 1710, 1667, 1426, 928, 773, 66, 689, 1791, 1667, 928, 773, 1426, 1667, 773, 184, 1667, 1477, 689, 773, 1426, 184, 1667, 1426, 184, 773, 1710, 184, 689, 66, 1667, 184, 1353, 1667, 1915, 1769, 66, 689, 1710, 1426, 184, 773, 1769, 66, 1667, 184, 928, 689, 1667, 257, 689, 773, 1769, 1371, 1769, 1133, 1667, 1353, 1132, 1667, 1477, 1371, 1132, 689, 468, 1667, 638, 1667, 879, 773, 1098, 1371, 1769, 66, 1710, 773, 1769, 773, 184, 928, 1667, 639, 773, 1133, 1353, 1710, 689]\n",
    "message = Decode(n, d, cipher_text)\n",
    "print(\"Paul Schneider:\", message)"
   ]
  },
  {
   "cell_type": "code",
   "execution_count": 144,
   "metadata": {},
   "outputs": [
    {
     "name": "stdout",
     "output_type": "stream",
     "text": [
      "Joey: I love this quote.\n"
     ]
    }
   ],
   "source": [
    "cipher_text = [1923, 1667, 1477, 1353, 986, 689, 1667, 184, 928, 1371, 1426, 1667, 1120, 1915, 1353, 184, 689, 468]\n",
    "message = Decode(n, d, cipher_text)\n",
    "print(\"Joey:\", message)"
   ]
  },
  {
   "cell_type": "markdown",
   "metadata": {},
   "source": [
    "Encode(n, e, message) raises the unicode/ascii of each character in the message to power e and mod n to return the ciphertext. <br/>\n",
    "In the following, I first encoded my message into ciphertext and decoded the ciphertext back to string."
   ]
  },
  {
   "cell_type": "code",
   "execution_count": 146,
   "metadata": {},
   "outputs": [
    {
     "name": "stdout",
     "output_type": "stream",
     "text": [
      "[981, 1667, 1098, 689, 773, 1915, 184, 1371, 1132, 1915, 1477, 1667, 1120, 1915, 1353, 184, 689, 468, 1667, 639, 928, 773, 1769, 1642, 1426, 1667, 1132, 1353, 1710, 1667, 1426, 928, 773, 1710, 1371, 1769, 1133, 1667, 184, 928, 1371, 1426, 1667, 1890, 1371, 184, 928, 1667, 1915, 1426, 468]\n"
     ]
    }
   ],
   "source": [
    "my_reply = \"A beautiful quote. Thanks for sharing this with us.\"\n",
    "cipher_text = Encode(n, e, message=my_reply)\n",
    "print(cipher_text)"
   ]
  },
  {
   "cell_type": "code",
   "execution_count": 147,
   "metadata": {},
   "outputs": [
    {
     "name": "stdout",
     "output_type": "stream",
     "text": [
      "Calvin Yeung: A beautiful quote. Thanks for sharing this with us.\n"
     ]
    }
   ],
   "source": [
    "cipher_text = [981, 1667, 1098, 689, 773, 1915, 184, 1371, 1132, 1915, 1477, 1667, 1120, 1915, 1353, 184, 689, 468, 1667, 639, 928, 773, 1769, 1642, 1426, 1667, 1132, 1353, 1710, 1667, 1426, 928, 773, 1710, 1371, 1769, 1133, 1667, 184, 928, 1371, 1426, 1667, 1890, 1371, 184, 928, 1667, 1915, 1426, 468]\n",
    "message = Decode(n, d, cipher_text)\n",
    "print(\"Calvin Yeung:\", message)"
   ]
  },
  {
   "cell_type": "code",
   "execution_count": 148,
   "metadata": {},
   "outputs": [
    {
     "name": "stdout",
     "output_type": "stream",
     "text": [
      "Wyatt Kimbrough: You cannot cross the sea merely by standing and staring at the water. - Rabindranath Tagore\n"
     ]
    }
   ],
   "source": [
    "cipher_text = [660, 1353, 1915, 1667, 1860, 773, 1769, 1769, 1353, 184, 1667, 1860, 1710, 1353, 1426, 1426, 1667, 184, 928, 689, 1667, 1426, 689, 773, 1667, 257, 689, 1710, 689, 1477, 239, 1667, 1098, 239, 1667, 1426, 184, 773, 1769, 66, 1371, 1769, 1133, 1667, 773, 1769, 66, 1667, 1426, 184, 773, 1710, 1371, 1769, 1133, 1667, 773, 184, 1667, 184, 928, 689, 1667, 1890, 773, 184, 689, 1710, 468, 1667, 638, 1667, 879, 773, 1098, 1371, 1769, 66, 1710, 773, 1769, 773, 184, 928, 1667, 639, 773, 1133, 1353, 1710, 689]\n",
    "message = Decode(n, d, cipher_text)\n",
    "print(\"Wyatt Kimbrough:\", message)"
   ]
  },
  {
   "cell_type": "code",
   "execution_count": 149,
   "metadata": {},
   "outputs": [
    {
     "name": "stdout",
     "output_type": "stream",
     "text": [
      "Kevin Qian: The quick brown fox jumps over the...\n"
     ]
    }
   ],
   "source": [
    "cipher_text = [639, 928, 689, 1667, 1120, 1915, 1371, 1860, 1642, 1667, 1098, 1710, 1353, 1890, 1769, 1667, 1132, 1353, 1753, 1667, 140, 1915, 257, 1678, 1426, 1667, 1353, 986, 689, 1710, 1667, 184, 928, 689, 468, 468, 468]\n",
    "message = Decode(n, d, cipher_text)\n",
    "print(\"Kevin Qian:\", message)"
   ]
  },
  {
   "cell_type": "markdown",
   "metadata": {
    "tags": []
   },
   "source": [
    "##### **Decode and Respond example 1 (respond to with \"just codes with public keys\", n with 6 digits):**\n",
    "\n",
    "n = 126811 <br/>\n",
    "e = 11 <br/>\n",
    "message = `[112564, 4787, 23471, 29979, 117918, 65207, 4787, 23471, 4787, 118870, 118870, 115102, 23471, 77744, 47720, 23471, 112500, 35945, 23471, 77744, 105272, 105888, 65207, 23471, 4787, 118870, 23471, 50334, 118870, 118888, 105272, 105888, 23471, 4787, 118870, 23471, 58850, 117918, 69999, 33882, 4787, 47720, 52075, 119820, 108285, 111224, 23471, 108285, 105888, 72718, 23471, 27323, 118870, 69999, 47720, 23471, 105272, 4787, 23471, 110983, 105272, 50334, 50334, 23471, 105888, 118870, 4787, 23471, 27323, 108285, 69999, 69999, 47720, 105888, 23471, 108285, 118888, 108285, 105272, 105888, 79598, 23471, 40161, 118870, 105272, 105888, 118888, 23471, 4787, 118870, 23471, 72718, 118870, 110983, 105888, 50334, 118870, 108285, 72718, 23471, 4787, 27323, 47720, 23471, 83460, 105272, 50334, 47720, 23471, 52075, 105272, 118888, 27323, 4787, 23471, 108285, 110983, 108285, 33882, 23471, 105272, 105888, 23471, 29804, 108285, 65207, 47720, 23471, 65207, 118870, 77744, 47720, 4787, 27323, 105272, 105888, 118888, 23471, 111224, 108285, 72718, 23471, 27323, 108285, 69999, 69999, 47720, 105888, 65207, 23471, 4787, 27323, 105272, 65207, 23471, 110983, 47720, 47720, 115102, 47720, 105888, 72718, 79598]`"
   ]
  },
  {
   "cell_type": "code",
   "execution_count": 151,
   "metadata": {},
   "outputs": [
    {
     "name": "stdout",
     "output_type": "stream",
     "text": [
      "p: 211 q: 601\n",
      "d: 103091\n",
      "CPU times: user 142 μs, sys: 75 μs, total: 217 μs\n",
      "Wall time: 172 μs\n"
     ]
    }
   ],
   "source": [
    "%%time\n",
    "n = 126811  \n",
    "e = 11  \n",
    "p = prime_factorize_linear(n)  # find smaller prime factor\n",
    "q = prime_factorize_the_other_prime(n, p) # get larger prime factor\n",
    "print(\"p:\", p, \"q:\", q)\n",
    "d = Find_Private_Key_d(e, p, q) # calculate d\n",
    "print(\"d:\", d)"
   ]
  },
  {
   "cell_type": "code",
   "execution_count": 152,
   "metadata": {},
   "outputs": [
    {
     "name": "stdout",
     "output_type": "stream",
     "text": [
      "Ning Chih Chang: It just took me 10 mins to login to JupyterLab and hope it will not happen again. Going to download the file right away in case something bad happens this weekend.\n"
     ]
    }
   ],
   "source": [
    "cipher_text = [112564, 4787, 23471, 29979, 117918, 65207, 4787, 23471, 4787, 118870, 118870, 115102, 23471, 77744, 47720, 23471, 112500, 35945, 23471, 77744, 105272, 105888, 65207, 23471, 4787, 118870, 23471, 50334, 118870, 118888, 105272, 105888, 23471, 4787, 118870, 23471, 58850, 117918, 69999, 33882, 4787, 47720, 52075, 119820, 108285, 111224, 23471, 108285, 105888, 72718, 23471, 27323, 118870, 69999, 47720, 23471, 105272, 4787, 23471, 110983, 105272, 50334, 50334, 23471, 105888, 118870, 4787, 23471, 27323, 108285, 69999, 69999, 47720, 105888, 23471, 108285, 118888, 108285, 105272, 105888, 79598, 23471, 40161, 118870, 105272, 105888, 118888, 23471, 4787, 118870, 23471, 72718, 118870, 110983, 105888, 50334, 118870, 108285, 72718, 23471, 4787, 27323, 47720, 23471, 83460, 105272, 50334, 47720, 23471, 52075, 105272, 118888, 27323, 4787, 23471, 108285, 110983, 108285, 33882, 23471, 105272, 105888, 23471, 29804, 108285, 65207, 47720, 23471, 65207, 118870, 77744, 47720, 4787, 27323, 105272, 105888, 118888, 23471, 111224, 108285, 72718, 23471, 27323, 108285, 69999, 69999, 47720, 105888, 65207, 23471, 4787, 27323, 105272, 65207, 23471, 110983, 47720, 47720, 115102, 47720, 105888, 72718, 79598]\n",
    "message = Decode(n, d, cipher_text)\n",
    "print(\"Ning Chih Chang:\", message)"
   ]
  },
  {
   "cell_type": "code",
   "execution_count": 153,
   "metadata": {},
   "outputs": [
    {
     "name": "stdout",
     "output_type": "stream",
     "text": [
      "[112564, 23471, 111224, 108285, 29804, 115102, 117918, 69999, 23471, 77744, 33882, 23471, 29804, 118870, 72718, 47720, 23471, 111224, 33882, 23471, 77744, 108285, 105888, 117918, 108285, 50334, 50334, 33882, 23471, 72718, 118870, 110983, 105888, 50334, 118870, 108285, 72718, 105272, 105888, 118888, 23471, 108285, 23471, 29804, 118870, 69999, 33882, 23471, 83460, 52075, 118870, 77744, 23471, 4787, 27323, 47720, 23471, 58850, 117918, 69999, 33882, 4787, 47720, 52075, 23471, 77022, 117918, 111224, 23471, 47720, 61634, 47720, 52075, 33882, 72718, 108285, 33882, 23471, 111224, 47720, 83460, 118870, 52075, 47720, 23471, 65207, 50334, 47720, 47720, 69999, 79598, 23471, 69173, 108285, 29804, 115102, 117918, 69999, 23471, 65207, 108285, 61634, 47720, 65207, 23471, 50334, 105272, 83460, 47720, 65207, 36752]\n"
     ]
    }
   ],
   "source": [
    "my_reply = \"I backup my code by manually downloading a copy from the Jupyter Hub everyday before sleep. Backup saves lifes!\"\n",
    "cipher_text = Encode(n, e, message=my_reply)\n",
    "print(cipher_text)"
   ]
  },
  {
   "cell_type": "code",
   "execution_count": 154,
   "metadata": {},
   "outputs": [
    {
     "name": "stdout",
     "output_type": "stream",
     "text": [
      "Calvin Yeung: I backup my code by manually downloading a copy from the Jupyter Hub everyday before sleep. Backup saves lifes!\n"
     ]
    }
   ],
   "source": [
    "cipher_text = [112564, 23471, 111224, 108285, 29804, 115102, 117918, 69999, 23471, 77744, 33882, 23471, 29804, 118870, 72718, 47720, 23471, 111224, 33882, 23471, 77744, 108285, 105888, 117918, 108285, 50334, 50334, 33882, 23471, 72718, 118870, 110983, 105888, 50334, 118870, 108285, 72718, 105272, 105888, 118888, 23471, 108285, 23471, 29804, 118870, 69999, 33882, 23471, 83460, 52075, 118870, 77744, 23471, 4787, 27323, 47720, 23471, 58850, 117918, 69999, 33882, 4787, 47720, 52075, 23471, 77022, 117918, 111224, 23471, 47720, 61634, 47720, 52075, 33882, 72718, 108285, 33882, 23471, 111224, 47720, 83460, 118870, 52075, 47720, 23471, 65207, 50334, 47720, 47720, 69999, 79598, 23471, 69173, 108285, 29804, 115102, 117918, 69999, 23471, 65207, 108285, 61634, 47720, 65207, 23471, 50334, 105272, 83460, 47720, 65207, 36752]\n",
    "message = Decode(n, d, cipher_text)\n",
    "print(\"Calvin Yeung:\", message)"
   ]
  },
  {
   "cell_type": "markdown",
   "metadata": {
    "tags": []
   },
   "source": [
    "##### **Decode and Respond example 2 (n with 8 digits):**\n",
    "n = 36904181 <br/>\n",
    "e = 17 <br/>\n",
    "message = `[15593942, 12637244, 16649708, 12637244, 32454287, 10635853, 28880698, 12612349, 32454287, 12637244, 10635853, 12008458, 2825359, 30815356, 14669893, 10635853, 26226300, 5662769, 6957543]`"
   ]
  },
  {
   "cell_type": "code",
   "execution_count": 156,
   "metadata": {},
   "outputs": [
    {
     "name": "stdout",
     "output_type": "stream",
     "text": [
      "p: 6037 q: 6113\n",
      "d: 32551793\n",
      "CPU times: user 187 μs, sys: 25 μs, total: 212 μs\n",
      "Wall time: 210 μs\n"
     ]
    }
   ],
   "source": [
    "%%time\n",
    "n = 36904181  # given \n",
    "e = 17  # given \n",
    "p = prime_factorize_linear(n)  # find smaller prime factor\n",
    "q = prime_factorize_the_other_prime(n, p) # get larger prime factor\n",
    "print(\"p:\", p, \"q:\", q)\n",
    "d = Find_Private_Key_d(e, p, q) # calculate d\n",
    "print(\"d:\", d)"
   ]
  },
  {
   "cell_type": "code",
   "execution_count": 157,
   "metadata": {},
   "outputs": [
    {
     "name": "stdout",
     "output_type": "stream",
     "text": [
      "Mohammed Alsailani: Never more than 12.\n"
     ]
    }
   ],
   "source": [
    "cipher_text = [15593942, 12637244, 16649708, 12637244, 32454287, 10635853, 28880698, 12612349, 32454287, 12637244, 10635853, 12008458, 2825359, 30815356, 14669893, 10635853, 26226300, 5662769, 6957543]\n",
    "message = Decode(n, d, cipher_text)\n",
    "print(\"Mohammed Alsailani:\", message)"
   ]
  },
  {
   "cell_type": "code",
   "execution_count": 158,
   "metadata": {},
   "outputs": [
    {
     "name": "stdout",
     "output_type": "stream",
     "text": [
      "Paul Schneider: Why never more than 12? you, the current standard is 617 decimal digits (2,048 bits) for secure keys\n"
     ]
    }
   ],
   "source": [
    "cipher_text = [4660165, 2825359, 13231969, 10635853, 14669893, 12637244, 16649708, 12637244, 32454287, 10635853, 28880698, 12612349, 32454287, 12637244, 10635853, 12008458, 2825359, 30815356, 14669893, 10635853, 26226300, 5662769, 14694779, 10635853, 13231969, 12612349, 35989386, 33561794, 10635853, 12008458, 2825359, 12637244, 10635853, 25310266, 35989386, 32454287, 32454287, 12637244, 14669893, 12008458, 10635853, 499120, 12008458, 30815356, 14669893, 13570096, 30815356, 32454287, 13570096, 10635853, 6415264, 499120, 10635853, 19380338, 26226300, 4896662, 10635853, 13570096, 12637244, 25310266, 6415264, 28880698, 30815356, 31075744, 10635853, 13570096, 6415264, 5518600, 6415264, 12008458, 499120, 10635853, 22873714, 5662769, 33561794, 35594959, 34529273, 4385470, 10635853, 19845993, 6415264, 12008458, 499120, 25678999, 10635853, 11847089, 12612349, 32454287, 10635853, 499120, 12637244, 25310266, 35989386, 32454287, 12637244, 10635853, 14255255, 12637244, 13231969, 499120]\n",
    "message = Decode(n, d, cipher_text)\n",
    "print(\"Paul Schneider:\", message)"
   ]
  },
  {
   "cell_type": "code",
   "execution_count": 159,
   "metadata": {},
   "outputs": [
    {
     "name": "stdout",
     "output_type": "stream",
     "text": [
      "n = 13 digits...CONTRADICTION!!\n"
     ]
    }
   ],
   "source": [
    "cipher_text = [14669893, 10635853, 14223244, 10635853, 26226300, 21890268, 10635853, 13570096, 6415264, 5518600, 6415264, 12008458, 499120, 6957543, 6957543, 6957543, 10607487, 26846006, 15593942, 33204267, 25737185, 23766783, 5159060, 20561341, 10607487, 33204267, 20561341, 26846006, 15593942, 27954782, 27954782]\n",
    "message = Decode(n, d, cipher_text)\n",
    "print(message)"
   ]
  },
  {
   "cell_type": "code",
   "execution_count": 160,
   "metadata": {},
   "outputs": [
    {
     "name": "stdout",
     "output_type": "stream",
     "text": [
      "Joey: How about 13?\n"
     ]
    }
   ],
   "source": [
    "cipher_text = [18869110, 12612349, 20318536, 10635853, 30815356, 19845993, 12612349, 35989386, 12008458, 10635853, 26226300, 21890268, 14694779]\n",
    "message = Decode(n, d, cipher_text)\n",
    "print(\"Joey:\", message)"
   ]
  },
  {
   "cell_type": "code",
   "execution_count": 161,
   "metadata": {},
   "outputs": [
    {
     "name": "stdout",
     "output_type": "stream",
     "text": [
      "Gilberto Zamarron: What does no more than 12 mean?\n"
     ]
    }
   ],
   "source": [
    "cipher_text = [4660165, 2825359, 30815356, 12008458, 10635853, 13570096, 12612349, 12637244, 499120, 10635853, 14669893, 12612349, 10635853, 28880698, 12612349, 32454287, 12637244, 10635853, 12008458, 2825359, 30815356, 14669893, 10635853, 26226300, 5662769, 10635853, 28880698, 12637244, 30815356, 14669893, 14694779]\n",
    "message = Decode(n, d, cipher_text)\n",
    "print(\"Gilberto Zamarron:\", message)"
   ]
  },
  {
   "cell_type": "code",
   "execution_count": 162,
   "metadata": {},
   "outputs": [
    {
     "name": "stdout",
     "output_type": "stream",
     "text": [
      "[15593942, 12612349, 10635853, 28880698, 12612349, 32454287, 12637244, 10635853, 12008458, 2825359, 30815356, 14669893, 10635853, 26226300, 5662769, 10635853, 19845993, 12637244, 25310266, 30815356, 35989386, 499120, 12637244, 10635853, 6415264, 12008458, 10635853, 6415264, 499120, 10635853, 14669893, 12612349, 12008458, 10635853, 11847089, 35989386, 14669893, 10635853, 12008458, 12612349, 10635853, 499120, 6415264, 12008458, 10635853, 30815356, 14669893, 13570096, 10635853, 20318536, 30815356, 6415264, 12008458, 10635853, 11847089, 12612349, 32454287, 10635853, 12008458, 2825359, 12637244, 10635853, 19845993, 32454287, 35989386, 12008458, 12637244, 10635853, 11847089, 12612349, 32454287, 25310266, 12637244, 10635853, 11847089, 35989386, 14669893, 25310266, 12008458, 6415264, 12612349, 14669893, 10635853, 12008458, 12612349, 10635853, 19845993, 32454287, 12637244, 30815356, 14255255, 10635853, 12008458, 2825359, 12637244, 10635853, 25310266, 6415264, 29704765, 2825359, 12637244, 32454287, 12008458, 12637244, 31398971, 12008458, 6957543]\n"
     ]
    }
   ],
   "source": [
    "my_reply = \"No more than 12 because it is not fun to sit and wait for the brute force function to break the ciphertext.\"\n",
    "cipher_text = Encode(n, e, message=my_reply)\n",
    "print(cipher_text)"
   ]
  },
  {
   "cell_type": "code",
   "execution_count": 163,
   "metadata": {},
   "outputs": [
    {
     "name": "stdout",
     "output_type": "stream",
     "text": [
      "Calvin Yeung: No more than 12 because it is not fun to sit and wait for the brute force function to break the ciphertext.\n"
     ]
    }
   ],
   "source": [
    "cipher_text = [15593942, 12612349, 10635853, 28880698, 12612349, 32454287, 12637244, 10635853, 12008458, 2825359, 30815356, 14669893, 10635853, 26226300, 5662769, 10635853, 19845993, 12637244, 25310266, 30815356, 35989386, 499120, 12637244, 10635853, 6415264, 12008458, 10635853, 6415264, 499120, 10635853, 14669893, 12612349, 12008458, 10635853, 11847089, 35989386, 14669893, 10635853, 12008458, 12612349, 10635853, 499120, 6415264, 12008458, 10635853, 30815356, 14669893, 13570096, 10635853, 20318536, 30815356, 6415264, 12008458, 10635853, 11847089, 12612349, 32454287, 10635853, 12008458, 2825359, 12637244, 10635853, 19845993, 32454287, 35989386, 12008458, 12637244, 10635853, 11847089, 12612349, 32454287, 25310266, 12637244, 10635853, 11847089, 35989386, 14669893, 25310266, 12008458, 6415264, 12612349, 14669893, 10635853, 12008458, 12612349, 10635853, 19845993, 32454287, 12637244, 30815356, 14255255, 10635853, 12008458, 2825359, 12637244, 10635853, 25310266, 6415264, 29704765, 2825359, 12637244, 32454287, 12008458, 12637244, 31398971, 12008458, 6957543]\n",
    "message = Decode(n, d, cipher_text)\n",
    "print(\"Calvin Yeung:\", message)"
   ]
  },
  {
   "cell_type": "markdown",
   "metadata": {
    "tags": []
   },
   "source": [
    "##### **Decode and Respond example 3 (n with 12 digits):**\n",
    "n = 999962000357 <br/> \n",
    "e = 13 <br/> \n",
    "message = `[830387670721, 690888292716, 26935039357, 887787598030, 140067627502, 151609065028, 484997802945, 470539549768, 140067627502, 153739808323, 69150775394, 26935039357, 887787598030, 26935039357, 595105102325, 140067627502, 109775244718, 595699126459, 69150775394, 681747273702, 484997802945, 140067627502, 470539549768, 26935039357, 788653991341, 140067627502, 595699126459, 151609065028, 736232171365, 157316472990, 140067627502, 595699126459, 648409951602, 26935039357, 157316472990, 975238267291]`"
   ]
  },
  {
   "cell_type": "code",
   "execution_count": 165,
   "metadata": {},
   "outputs": [
    {
     "name": "stdout",
     "output_type": "stream",
     "text": [
      "p: 999979 q: 999983\n",
      "d: 153840000061\n",
      "CPU times: user 18.9 ms, sys: 738 μs, total: 19.6 ms\n",
      "Wall time: 19.4 ms\n"
     ]
    }
   ],
   "source": [
    "%%time\n",
    "n = 999962000357  # given\n",
    "e = 13  # given\n",
    "p = prime_factorize_linear(n)  # find smaller prime factor\n",
    "q = prime_factorize_the_other_prime(n, p) # get larger prime factor\n",
    "print(\"p:\", p, \"q:\", q)\n",
    "d = Find_Private_Key_d(e, p, q) # calculate d\n",
    "print(\"d:\", d)"
   ]
  },
  {
   "cell_type": "code",
   "execution_count": 166,
   "metadata": {},
   "outputs": [
    {
     "name": "stdout",
     "output_type": "stream",
     "text": [
      "S Dean Egan: That new Avatar movie was only okay.\n"
     ]
    }
   ],
   "source": [
    "cipher_text = [830387670721, 690888292716, 26935039357, 887787598030, 140067627502, 151609065028, 484997802945, 470539549768, 140067627502, 153739808323, 69150775394, 26935039357, 887787598030, 26935039357, 595105102325, 140067627502, 109775244718, 595699126459, 69150775394, 681747273702, 484997802945, 140067627502, 470539549768, 26935039357, 788653991341, 140067627502, 595699126459, 151609065028, 736232171365, 157316472990, 140067627502, 595699126459, 648409951602, 26935039357, 157316472990, 975238267291]\n",
    "message = Decode(n, d, cipher_text)\n",
    "print(\"S Dean Egan:\", message)"
   ]
  },
  {
   "cell_type": "code",
   "execution_count": 167,
   "metadata": {},
   "outputs": [
    {
     "name": "stdout",
     "output_type": "stream",
     "text": [
      "Domenick DeMatteo: What did you think of the original?\n"
     ]
    }
   ],
   "source": [
    "cipher_text = [77623039769, 690888292716, 26935039357, 887787598030, 140067627502, 774037193386, 681747273702, 774037193386, 140067627502, 157316472990, 595699126459, 623854551994, 140067627502, 887787598030, 690888292716, 681747273702, 151609065028, 648409951602, 140067627502, 595699126459, 976136617091, 140067627502, 887787598030, 690888292716, 484997802945, 140067627502, 595699126459, 595105102325, 681747273702, 235779081966, 681747273702, 151609065028, 26935039357, 736232171365, 736464609697]\n",
    "message = Decode(n, d, cipher_text)\n",
    "print(\"Domenick DeMatteo:\", message)"
   ]
  },
  {
   "cell_type": "code",
   "execution_count": 168,
   "metadata": {},
   "outputs": [
    {
     "name": "stdout",
     "output_type": "stream",
     "text": [
      "Gilberto Zamarron: IDK I thought it was okay. Agree to disagree\n"
     ]
    }
   ],
   "source": [
    "cipher_text = [416626842389, 450177624345, 626788076088, 140067627502, 416626842389, 140067627502, 887787598030, 690888292716, 595699126459, 623854551994, 235779081966, 690888292716, 887787598030, 140067627502, 681747273702, 887787598030, 140067627502, 470539549768, 26935039357, 788653991341, 140067627502, 595699126459, 648409951602, 26935039357, 157316472990, 975238267291, 140067627502, 153739808323, 235779081966, 595105102325, 484997802945, 484997802945, 140067627502, 887787598030, 595699126459, 140067627502, 774037193386, 681747273702, 788653991341, 26935039357, 235779081966, 595105102325, 484997802945, 484997802945]\n",
    "message = Decode(n, d, cipher_text)\n",
    "print(\"Gilberto Zamarron:\", message)"
   ]
  },
  {
   "cell_type": "code",
   "execution_count": 169,
   "metadata": {},
   "outputs": [
    {
     "name": "stdout",
     "output_type": "stream",
     "text": [
      "S Dean Egan: Why would I watch the first Avatar? I already saw Dances With Wolves...\n"
     ]
    }
   ],
   "source": [
    "cipher_text = [77623039769, 690888292716, 157316472990, 140067627502, 470539549768, 595699126459, 623854551994, 736232171365, 774037193386, 140067627502, 416626842389, 140067627502, 470539549768, 26935039357, 887787598030, 164359084538, 690888292716, 140067627502, 887787598030, 690888292716, 484997802945, 140067627502, 976136617091, 681747273702, 595105102325, 788653991341, 887787598030, 140067627502, 153739808323, 69150775394, 26935039357, 887787598030, 26935039357, 595105102325, 736464609697, 140067627502, 416626842389, 140067627502, 26935039357, 736232171365, 595105102325, 484997802945, 26935039357, 774037193386, 157316472990, 140067627502, 788653991341, 26935039357, 470539549768, 140067627502, 450177624345, 26935039357, 151609065028, 164359084538, 484997802945, 788653991341, 140067627502, 77623039769, 681747273702, 887787598030, 690888292716, 140067627502, 77623039769, 595699126459, 736232171365, 69150775394, 484997802945, 788653991341, 975238267291, 975238267291, 975238267291]\n",
    "message = Decode(n, d, cipher_text)\n",
    "print(\"S Dean Egan:\", message)"
   ]
  },
  {
   "cell_type": "code",
   "execution_count": 170,
   "metadata": {},
   "outputs": [
    {
     "name": "stdout",
     "output_type": "stream",
     "text": [
      "[830387670721, 690888292716, 484997802945, 140067627502, 976136617091, 681747273702, 595105102325, 788653991341, 887787598030, 140067627502, 595699126459, 151609065028, 484997802945, 140067627502, 470539549768, 26935039357, 788653991341, 140067627502, 774037193386, 484997802945, 164359084538, 484997802945, 151609065028, 887787598030, 736232171365, 157316472990, 140067627502, 235779081966, 595699126459, 595699126459, 774037193386, 975238267291]\n"
     ]
    }
   ],
   "source": [
    "my_reply = \"The first one was decently good.\"\n",
    "cipher_text = Encode(n, e, message=my_reply)\n",
    "print(cipher_text)"
   ]
  },
  {
   "cell_type": "code",
   "execution_count": 171,
   "metadata": {},
   "outputs": [
    {
     "name": "stdout",
     "output_type": "stream",
     "text": [
      "Calvin Yeung: The first one was decently good.\n"
     ]
    }
   ],
   "source": [
    "cipher_text = [830387670721, 690888292716, 484997802945, 140067627502, 976136617091, 681747273702, 595105102325, 788653991341, 887787598030, 140067627502, 595699126459, 151609065028, 484997802945, 140067627502, 470539549768, 26935039357, 788653991341, 140067627502, 774037193386, 484997802945, 164359084538, 484997802945, 151609065028, 887787598030, 736232171365, 157316472990, 140067627502, 235779081966, 595699126459, 595699126459, 774037193386, 975238267291]\n",
    "message = Decode(n, d, cipher_text)\n",
    "print(\"Calvin Yeung:\", message)"
   ]
  },
  {
   "cell_type": "markdown",
   "metadata": {},
   "source": [
    "##### Quick note on the size of n"
   ]
  },
  {
   "cell_type": "markdown",
   "metadata": {},
   "source": [
    "The larger n is (longer digits) the more processing time is needed. And the processing time increases exponentially as the length of digits increases."
   ]
  },
  {
   "cell_type": "markdown",
   "metadata": {
    "tags": []
   },
   "source": [
    "\n",
    "### 10. Custom CODE Feature ###\n",
    "\n",
    "Trying to improve the above code in some waay or other\n"
   ]
  },
  {
   "cell_type": "markdown",
   "metadata": {
    "tags": []
   },
   "source": [
    "##### Custom 1: improved the given linear brute force factorization function \n",
    "I tried to improve the given linear search with my newly aquired knowledge about prime. \n",
    "So I basically added a if case with mod 2 to eliminate all EVEN cases. \n",
    "And changed start of for loop from 3 and changed the step of for loop to 2 to skip the EVENs. \n",
    "It shows slight improvement in runtime compare to the given `factorize(n)`.\n"
   ]
  },
  {
   "cell_type": "code",
   "execution_count": 176,
   "metadata": {},
   "outputs": [],
   "source": [
    "from math import sqrt\n",
    "def prime_factorize_linear(n): # step 1. find smaller prime\n",
    "    \"\"\"\n",
    "    my version of linear brute force factorization (slightly faster)\n",
    "    n is a number, return the smallest factor of n (assume n is product of 2 primes)\n",
    "    \"\"\"\n",
    "    if (n % 2 == 0): # remove EVENs\n",
    "        return 2\n",
    "    for i in range(3, int(sqrt(n)) + 1, 2):  # If n is a composite integer, then n has a prime divisor less than or equal to √n, AND skip EVEN.\n",
    "        if (n % i == 0): \n",
    "            return i\n",
    "    return 1 # if none of the above works, then it is prime"
   ]
  },
  {
   "cell_type": "markdown",
   "metadata": {},
   "source": [
    "**Custom 1 Demo:**"
   ]
  },
  {
   "cell_type": "code",
   "execution_count": 178,
   "metadata": {},
   "outputs": [
    {
     "name": "stdout",
     "output_type": "stream",
     "text": [
      "CPU times: user 14.8 ms, sys: 2.23 ms, total: 17 ms\n",
      "Wall time: 19.9 ms\n"
     ]
    },
    {
     "data": {
      "text/plain": [
       "700001"
      ]
     },
     "execution_count": 178,
     "metadata": {},
     "output_type": "execute_result"
    }
   ],
   "source": [
    "%%time\n",
    "prime_factorize_linear(2276769352523)"
   ]
  },
  {
   "cell_type": "markdown",
   "metadata": {},
   "source": [
    "##### Custom 2: Fermat's Factorization Method\n",
    "I tried to implement the Fermat's Factorization Method following the description and guidence on the wikipedia. However, the result show no improvement in runtime. I think this function is actually more time consuming due to the exponent and square root operations. \n",
    "reference: https://en.wikipedia.org/wiki/Fermat%27s_factorization_method#:~:text=Fermat%27s%20factorization%20method%2C%20named%20after,the%20difference%20of%20two%20squares%3A&text=%3B%20if%20neither%20factor%20equals%20one,a%20proper%20factorization%20of%20N.&text=Since%20N%20is%20odd%2C%20then,so%20those%20halves%20are%20integers."
   ]
  },
  {
   "cell_type": "code",
   "execution_count": 180,
   "metadata": {},
   "outputs": [],
   "source": [
    "from math import sqrt\n",
    "from math import ceil\n",
    "def FermatFactor(n):\n",
    "    \"\"\"\n",
    "    Fermat's factorization method\n",
    "    No speed improvement compare to linear \n",
    "    odd integer must be the difference of two squares\n",
    "    try to show a**2 - n = b**2 \n",
    "    \"\"\"\n",
    "    if n % 2 == 0: # remove EVEN cases\n",
    "        return 2\n",
    "    \n",
    "    a = ceil(sqrt(n)) # get a from a**2\n",
    "    b2 = a * a - n # get b**2\n",
    "    while (int(sqrt(b2))**2 != b2): # loop until b2 is sqaure\n",
    "        a = a + 1\n",
    "        b2 = a * a - n\n",
    "    return int(a - sqrt(b2)) "
   ]
  },
  {
   "cell_type": "markdown",
   "metadata": {},
   "source": [
    "**Custom 2 Demo:**"
   ]
  },
  {
   "cell_type": "code",
   "execution_count": 182,
   "metadata": {},
   "outputs": [
    {
     "name": "stdout",
     "output_type": "stream",
     "text": [
      "CPU times: user 71 ms, sys: 2.18 ms, total: 73.1 ms\n",
      "Wall time: 72.2 ms\n"
     ]
    },
    {
     "data": {
      "text/plain": [
       "700001"
      ]
     },
     "execution_count": 182,
     "metadata": {},
     "output_type": "execute_result"
    }
   ],
   "source": [
    "%%time\n",
    "FermatFactor(2276769352523)"
   ]
  },
  {
   "cell_type": "markdown",
   "metadata": {},
   "source": [
    "##### Custom 3: Pollard's rho algorithm\n",
    "I also tried to implement the Pollard's rho algorithm. The part about Cycle detection is especially tricky. I somehow successfully read and implemented the algorithm, but I am still not confident enough to say I mastered all the materials, at least no like the level that we studied the RSA. The Pollard's rho algorithm shows huge improvement in runtime, especially for large numbers. <br/>\n",
    "reference: https://en.wikipedia.org/wiki/Pollard%27s_rho_algorithm"
   ]
  },
  {
   "cell_type": "code",
   "execution_count": 184,
   "metadata": {},
   "outputs": [],
   "source": [
    "def Euclidean_Alg(a:int, b:int) -> int: # Find GCD with Euclidean algorithm \n",
    "    \"\"\"\n",
    "    1. Calculate the Greatest Common Divisor of a and b.\n",
    "    \n",
    "    2. This version should have only postive inputs and outputs.\n",
    "    \n",
    "    3. The function must return a single integer ('x') which is\n",
    "    the gcd of a and b.\n",
    "    \n",
    "    \n",
    "    \"\"\"\n",
    "    assert a >= b >= 0 \n",
    "    while (b > 0): # hit 0 and return gcd on the left\n",
    "        r = a % b  # gcd(a, b) == gcd(a mod b , b)\n",
    "        a = b      # move current largest to left\n",
    "        b = r      # move current smallest to left\n",
    "    return a       # return a when b == 0\n",
    "\n",
    "def g(x, n):\n",
    "    \"\"\"\n",
    "    support function for pollard rho algorithm\n",
    "    generate pseudo random numbers between 1 and n with polynomial\n",
    "    \"\"\"\n",
    "    return (x**2 + 1) % n \n",
    "\n",
    "def pollard_rho_wiki(n):\n",
    "    \"\"\"\n",
    "    Pollard's rho algorithm\n",
    "    NOT work for square, cube etc. \n",
    "    e.g. 625 return 125\n",
    "    e.g. 125 return 25 but not 5\n",
    "    \"\"\"\n",
    "    # remove even cases\n",
    "    if (n % 2 == 0):\n",
    "        return 2\n",
    "    \n",
    "    x = 2\n",
    "    y = 2\n",
    "    d = 1\n",
    "    \n",
    "    # cycle-finding \n",
    "    while (d == 1): # run until gcd == 1\n",
    "        x = g(x, n) # x run once \n",
    "        y = g(g(y, n), n) # y run twice\n",
    "        d = Euclidean_Alg(n, abs(x - y)) # get GCD\n",
    "        \n",
    "    if d == n:\n",
    "        return False\n",
    "    else: \n",
    "        return d \n"
   ]
  },
  {
   "cell_type": "markdown",
   "metadata": {},
   "source": [
    "**Custom 3 Demo:**"
   ]
  },
  {
   "cell_type": "code",
   "execution_count": 186,
   "metadata": {},
   "outputs": [
    {
     "name": "stdout",
     "output_type": "stream",
     "text": [
      "CPU times: user 1.24 ms, sys: 0 ns, total: 1.24 ms\n",
      "Wall time: 1.24 ms\n"
     ]
    },
    {
     "data": {
      "text/plain": [
       "700001"
      ]
     },
     "execution_count": 186,
     "metadata": {},
     "output_type": "execute_result"
    }
   ],
   "source": [
    "%%time \n",
    "pollard_rho_wiki(2276769352523)"
   ]
  },
  {
   "cell_type": "markdown",
   "metadata": {},
   "source": [
    "##### Custom 4: Cipher to Glyph translator - break code WITHOUT private key d\n",
    "It basically exploits the design flaw of lack of padding and chunking in our RSA implementation to use to public key e and product n to turn a list of unicode Basic Latin characters into a cipher to glyph dictionary. We can simply use ciphertext as key to retrieve the original text. "
   ]
  },
  {
   "cell_type": "code",
   "execution_count": 188,
   "metadata": {},
   "outputs": [],
   "source": [
    "def break_codes_find_glyph_cipher(n, e, cipher_text):\n",
    "    \"\"\"\n",
    "    this function first build a cipher to glyph dictionary\n",
    "    then translate ciphertext with the dictionary as reference\n",
    "    \"\"\"\n",
    "    \n",
    "    all_common_glyph = \"\"\" !\"#$%&'()*+,-./0123456789:;<=>?@ABCDEFGHIJKLMNOPQRSTUVWXYZ[\\\\]^_`abcdefghijklmnopqrstuvwxyz{|}~\"\"\" # unicode Basic Latin\n",
    "\n",
    "    cipher_glyph_dict = dict()\n",
    "    \n",
    "    cipher_all_common_glyph = Encode(n, e, all_common_glyph) # encode each glyph as reference\n",
    "    \n",
    "    for glyph, cipher_glyph in zip(all_common_glyph, cipher_all_common_glyph):\n",
    "        if (cipher_glyph not in cipher_glyph_dict):\n",
    "            cipher_glyph_dict[cipher_glyph] = glyph\n",
    "    \n",
    "    print(cipher_glyph_dict) # have a look of the result dict\n",
    "    \n",
    "    \n",
    "    # get ciphertext and return original message \n",
    "    message = \"\"\n",
    "    for cipher_char in cipher_text:\n",
    "        if cipher_char in cipher_glyph_dict:\n",
    "            message = message + cipher_glyph_dict[cipher_char] # read from dict to translate cipher to text\n",
    "        else:\n",
    "            message = message + '*'\n",
    "    \n",
    "\n",
    "    return message"
   ]
  },
  {
   "cell_type": "markdown",
   "metadata": {},
   "source": [
    "**Custom 4 Demo:**"
   ]
  },
  {
   "cell_type": "code",
   "execution_count": 190,
   "metadata": {},
   "outputs": [
    {
     "name": "stdout",
     "output_type": "stream",
     "text": [
      "{1262: ' ', 4431: '!', 2547: '\"', 867: '#', 4648: '$', 3394: '%', 2362: '&', 1558: \"'\", 988: '(', 658: ')', 574: '*', 742: '+', 1168: ',', 1858: '-', 2818: '.', 4054: '/', 321: '0', 2127: '1', 4227: '2', 1376: '3', 4082: '4', 1849: '5', 5185: '6', 3594: '7', 2333: '8', 1408: '9', 825: ':', 590: ';', 709: '<', 1188: '=', 2033: '>', 3250: '?', 4845: '@', 1573: 'A', 3942: 'B', 1456: 'C', 4623: 'D', 2947: 'E', 1685: 'F', 843: 'G', 427: 'H', 443: 'I', 897: 'J', 1795: 'K', 3143: 'L', 4947: 'M', 1962: 'N', 4696: 'O', 2653: 'P', 1090: 'Q', 13: 'R', 4679: 'S', 4592: 'T', 5009: 'U', 685: 'V', 2128: 'W', 4093: 'X', 1335: 'Y', 4362: 'Z', 2678: '[', 1540: '\\\\', 954: ']', 926: '^', 1462: '_', 2568: '`', 4250: 'a', 1263: 'b', 4115: 'c', 2310: 'd', 1105: 'e', 506: 'f', 519: 'g', 1150: 'h', 2405: 'i', 4290: 'j', 1560: 'k', 4723: 'l', 3283: 'm', 2497: 'n', 2371: 'o', 2911: 'p', 4123: 'q', 762: 'r', 3336: 's', 1349: 't', 58: 'u', 4720: 'v', 4839: 'w', 421: 'x', 1974: 'y', 4253: 'z', 2013: '{', 511: '|', 5004: '}', 4996: '~'}\n"
     ]
    },
    {
     "data": {
      "text/plain": [
       "'What song best describes the feeling you get when your RSA code is working?'"
      ]
     },
     "execution_count": 190,
     "metadata": {},
     "output_type": "execute_result"
    }
   ],
   "source": [
    "cipher_text = [2128, 1150, 4250, 1349, 1262, 3336, 2371, 2497, 519, 1262, 1263, 1105, 3336, 1349, 1262, 2310, 1105, 3336, 4115, 762, 2405, 1263, 1105, 3336, 1262, 1349, 1150, 1105, 1262, 506, 1105, 1105, 4723, 2405, 2497, 519, 1262, 1974, 2371, 58, 1262, 519, 1105, 1349, 1262, 4839, 1150, 1105, 2497, 1262, 1974, 2371, 58, 762, 1262, 13, 4679, 1573, 1262, 4115, 2371, 2310, 1105, 1262, 2405, 3336, 1262, 4839, 2371, 762, 1560, 2405, 2497, 519, 3250]\n",
    "break_codes_find_glyph_cipher(5251, 3, cipher_text) # with ONLY the publicly known n and e and ciphertext"
   ]
  }
 ],
 "metadata": {
  "kernelspec": {
   "display_name": "Python 3 (ipykernel)",
   "language": "python",
   "name": "python3"
  },
  "language_info": {
   "codemirror_mode": {
    "name": "ipython",
    "version": 3
   },
   "file_extension": ".py",
   "mimetype": "text/x-python",
   "name": "python",
   "nbconvert_exporter": "python",
   "pygments_lexer": "ipython3",
   "version": "3.12.4"
  }
 },
 "nbformat": 4,
 "nbformat_minor": 4
}
